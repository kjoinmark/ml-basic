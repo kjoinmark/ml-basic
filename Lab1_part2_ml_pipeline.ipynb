{
  "cells": [
    {
      "cell_type": "markdown",
      "metadata": {
        "nbgrader": {
          "grade": false,
          "grade_id": "cell-86e0de040aac317a",
          "locked": true,
          "schema_version": 2,
          "solution": false
        },
        "id": "S-SBsIA2utcA"
      },
      "source": [
        "# Lab assignment №1, part 2\n",
        "\n",
        "This lab assignment consists of several parts. You are supposed to make some transformations, train some models, estimate the quality of the models and explain your results.\n",
        "\n",
        "Several comments:\n",
        "* Don't hesitate to ask questions, it's a good practice.\n",
        "* No private/public sharing, please. The copied assignments will be graded with 0 points.\n",
        "* Blocks of this lab will be graded separately."
      ]
    },
    {
      "cell_type": "markdown",
      "metadata": {
        "id": "1qyC1qCTutcF"
      },
      "source": [
        "__*This is the second part of the assignment. First and third parts are waiting for you in the same directory.*__"
      ]
    },
    {
      "cell_type": "markdown",
      "metadata": {
        "nbgrader": {
          "grade": false,
          "grade_id": "cell-512ba712fc0fc065",
          "locked": true,
          "schema_version": 2,
          "solution": false
        },
        "id": "102E9I0_utcG"
      },
      "source": [
        "## Part 2. Data preprocessing, model training and evaluation."
      ]
    },
    {
      "cell_type": "markdown",
      "metadata": {
        "nbgrader": {
          "grade": false,
          "grade_id": "cell-b656a4266174b009",
          "locked": true,
          "schema_version": 2,
          "solution": false
        },
        "id": "FPrewFWYutcG"
      },
      "source": [
        "### 1. Reading the data\n",
        "Today we work with the [dataset](https://archive.ics.uci.edu/ml/datasets/Statlog+%28Vehicle+Silhouettes%29), describing different cars for multiclass ($k=4$) classification problem. The data is available below."
      ]
    },
    {
      "cell_type": "code",
      "execution_count": null,
      "metadata": {
        "id": "FMmDin2rutcH",
        "colab": {
          "base_uri": "https://localhost:8080/"
        },
        "outputId": "de5bc11f-37e3-4733-f8ff-61c6a4ea1982"
      },
      "outputs": [
        {
          "output_type": "stream",
          "name": "stdout",
          "text": [
            "--2022-11-16 11:47:12--  https://raw.githubusercontent.com/girafe-ai/ml-course/22f_made/homeworks/lab01_ml_pipeline/car_data.csv\n",
            "Resolving raw.githubusercontent.com (raw.githubusercontent.com)... 185.199.108.133, 185.199.109.133, 185.199.110.133, ...\n",
            "Connecting to raw.githubusercontent.com (raw.githubusercontent.com)|185.199.108.133|:443... connected.\n",
            "HTTP request sent, awaiting response... 200 OK\n",
            "Length: 58374 (57K) [text/plain]\n",
            "Saving to: ‘car_data.csv’\n",
            "\n",
            "\rcar_data.csv          0%[                    ]       0  --.-KB/s               \rcar_data.csv        100%[===================>]  57.01K  --.-KB/s    in 0.006s  \n",
            "\n",
            "2022-11-16 11:47:12 (8.93 MB/s) - ‘car_data.csv’ saved [58374/58374]\n",
            "\n"
          ]
        }
      ],
      "source": [
        "# If on colab, uncomment the following lines\n",
        "\n",
        "! wget https://raw.githubusercontent.com/girafe-ai/ml-course/22f_made/homeworks/lab01_ml_pipeline/car_data.csv"
      ]
    },
    {
      "cell_type": "code",
      "execution_count": null,
      "metadata": {
        "nbgrader": {
          "grade": false,
          "grade_id": "cell-eebac6bfdf73d0bc",
          "locked": true,
          "schema_version": 2,
          "solution": false
        },
        "id": "TKxh42oQutcJ",
        "outputId": "03f741d2-8e51-4bbc-c9e8-d7efc197c247",
        "colab": {
          "base_uri": "https://localhost:8080/"
        }
      },
      "outputs": [
        {
          "output_type": "stream",
          "name": "stdout",
          "text": [
            "(846, 19) (846,)\n"
          ]
        }
      ],
      "source": [
        "import pandas as pd\n",
        "import numpy as np\n",
        "from sklearn.model_selection import train_test_split\n",
        "\n",
        "dataset = pd.read_csv('car_data.csv', delimiter=',', header=None).values\n",
        "data = dataset[:, :-1].astype(int)\n",
        "target = dataset[:, -1]\n",
        "\n",
        "print(data.shape, target.shape)"
      ]
    },
    {
      "cell_type": "code",
      "source": [
        "dataset[:, 0] #получается, нулевой столбец, это id"
      ],
      "metadata": {
        "colab": {
          "base_uri": "https://localhost:8080/"
        },
        "id": "DlkpbMGKGlG6",
        "outputId": "258e4240-38da-4e20-ddd1-5dc2e1ba4112"
      },
      "execution_count": null,
      "outputs": [
        {
          "output_type": "execute_result",
          "data": {
            "text/plain": [
              "array([0, 1, 2, 3, 4, 5, 6, 7, 8, 9, 10, 11, 12, 13, 14, 15, 16, 17, 18,\n",
              "       19, 20, 21, 22, 23, 24, 25, 26, 27, 28, 29, 30, 31, 32, 33, 34, 35,\n",
              "       36, 37, 38, 39, 40, 41, 42, 43, 44, 45, 46, 47, 48, 49, 50, 51, 52,\n",
              "       53, 54, 55, 56, 57, 58, 59, 60, 61, 62, 63, 64, 65, 66, 67, 68, 69,\n",
              "       70, 71, 72, 73, 74, 75, 76, 77, 78, 79, 80, 81, 82, 83, 84, 85, 86,\n",
              "       87, 88, 89, 90, 91, 92, 93, 94, 95, 96, 97, 98, 99, 100, 101, 102,\n",
              "       103, 104, 105, 106, 107, 108, 109, 110, 111, 112, 113, 114, 115,\n",
              "       116, 117, 118, 119, 120, 121, 122, 123, 124, 125, 126, 127, 128,\n",
              "       129, 130, 131, 132, 133, 134, 135, 136, 137, 138, 139, 140, 141,\n",
              "       142, 143, 144, 145, 146, 147, 148, 149, 150, 151, 152, 153, 154,\n",
              "       155, 156, 157, 158, 159, 160, 161, 162, 163, 164, 165, 166, 167,\n",
              "       168, 169, 170, 171, 172, 173, 174, 175, 176, 177, 178, 179, 180,\n",
              "       181, 182, 183, 184, 185, 186, 187, 188, 189, 190, 191, 192, 193,\n",
              "       194, 195, 196, 197, 198, 199, 200, 201, 202, 203, 204, 205, 206,\n",
              "       207, 208, 209, 210, 211, 212, 213, 214, 215, 216, 217, 218, 219,\n",
              "       220, 221, 222, 223, 224, 225, 226, 227, 228, 229, 230, 231, 232,\n",
              "       233, 234, 235, 236, 237, 238, 239, 240, 241, 242, 243, 244, 245,\n",
              "       246, 247, 248, 249, 250, 251, 252, 253, 254, 255, 256, 257, 258,\n",
              "       259, 260, 261, 262, 263, 264, 265, 266, 267, 268, 269, 270, 271,\n",
              "       272, 273, 274, 275, 276, 277, 278, 279, 280, 281, 282, 283, 284,\n",
              "       285, 286, 287, 288, 289, 290, 291, 292, 293, 294, 295, 296, 297,\n",
              "       298, 299, 300, 301, 302, 303, 304, 305, 306, 307, 308, 309, 310,\n",
              "       311, 312, 313, 314, 315, 316, 317, 318, 319, 320, 321, 322, 323,\n",
              "       324, 325, 326, 327, 328, 329, 330, 331, 332, 333, 334, 335, 336,\n",
              "       337, 338, 339, 340, 341, 342, 343, 344, 345, 346, 347, 348, 349,\n",
              "       350, 351, 352, 353, 354, 355, 356, 357, 358, 359, 360, 361, 362,\n",
              "       363, 364, 365, 366, 367, 368, 369, 370, 371, 372, 373, 374, 375,\n",
              "       376, 377, 378, 379, 380, 381, 382, 383, 384, 385, 386, 387, 388,\n",
              "       389, 390, 391, 392, 393, 394, 395, 396, 397, 398, 399, 400, 401,\n",
              "       402, 403, 404, 405, 406, 407, 408, 409, 410, 411, 412, 413, 414,\n",
              "       415, 416, 417, 418, 419, 420, 421, 422, 423, 424, 425, 426, 427,\n",
              "       428, 429, 430, 431, 432, 433, 434, 435, 436, 437, 438, 439, 440,\n",
              "       441, 442, 443, 444, 445, 446, 447, 448, 449, 450, 451, 452, 453,\n",
              "       454, 455, 456, 457, 458, 459, 460, 461, 462, 463, 464, 465, 466,\n",
              "       467, 468, 469, 470, 471, 472, 473, 474, 475, 476, 477, 478, 479,\n",
              "       480, 481, 482, 483, 484, 485, 486, 487, 488, 489, 490, 491, 492,\n",
              "       493, 494, 495, 496, 497, 498, 499, 500, 501, 502, 503, 504, 505,\n",
              "       506, 507, 508, 509, 510, 511, 512, 513, 514, 515, 516, 517, 518,\n",
              "       519, 520, 521, 522, 523, 524, 525, 526, 527, 528, 529, 530, 531,\n",
              "       532, 533, 534, 535, 536, 537, 538, 539, 540, 541, 542, 543, 544,\n",
              "       545, 546, 547, 548, 549, 550, 551, 552, 553, 554, 555, 556, 557,\n",
              "       558, 559, 560, 561, 562, 563, 564, 565, 566, 567, 568, 569, 570,\n",
              "       571, 572, 573, 574, 575, 576, 577, 578, 579, 580, 581, 582, 583,\n",
              "       584, 585, 586, 587, 588, 589, 590, 591, 592, 593, 594, 595, 596,\n",
              "       597, 598, 599, 600, 601, 602, 603, 604, 605, 606, 607, 608, 609,\n",
              "       610, 611, 612, 613, 614, 615, 616, 617, 618, 619, 620, 621, 622,\n",
              "       623, 624, 625, 626, 627, 628, 629, 630, 631, 632, 633, 634, 635,\n",
              "       636, 637, 638, 639, 640, 641, 642, 643, 644, 645, 646, 647, 648,\n",
              "       649, 650, 651, 652, 653, 654, 655, 656, 657, 658, 659, 660, 661,\n",
              "       662, 663, 664, 665, 666, 667, 668, 669, 670, 671, 672, 673, 674,\n",
              "       675, 676, 677, 678, 679, 680, 681, 682, 683, 684, 685, 686, 687,\n",
              "       688, 689, 690, 691, 692, 693, 694, 695, 696, 697, 698, 699, 700,\n",
              "       701, 702, 703, 704, 705, 706, 707, 708, 709, 710, 711, 712, 713,\n",
              "       714, 715, 716, 717, 718, 719, 720, 721, 722, 723, 724, 725, 726,\n",
              "       727, 728, 729, 730, 731, 732, 733, 734, 735, 736, 737, 738, 739,\n",
              "       740, 741, 742, 743, 744, 745, 746, 747, 748, 749, 750, 751, 752,\n",
              "       753, 754, 755, 756, 757, 758, 759, 760, 761, 762, 763, 764, 765,\n",
              "       766, 767, 768, 769, 770, 771, 772, 773, 774, 775, 776, 777, 778,\n",
              "       779, 780, 781, 782, 783, 784, 785, 786, 787, 788, 789, 790, 791,\n",
              "       792, 793, 794, 795, 796, 797, 798, 799, 800, 801, 802, 803, 804,\n",
              "       805, 806, 807, 808, 809, 810, 811, 812, 813, 814, 815, 816, 817,\n",
              "       818, 819, 820, 821, 822, 823, 824, 825, 826, 827, 828, 829, 830,\n",
              "       831, 832, 833, 834, 835, 836, 837, 838, 839, 840, 841, 842, 843,\n",
              "       844, 845], dtype=object)"
            ]
          },
          "metadata": {},
          "execution_count": 9
        }
      ]
    },
    {
      "cell_type": "code",
      "source": [
        "X_train, X_test, y_train, y_test = train_test_split(data[:, 1:], target, test_size=0.35)\n",
        "print(X_train.shape, y_train.shape, X_test.shape, y_test.shape)"
      ],
      "metadata": {
        "colab": {
          "base_uri": "https://localhost:8080/"
        },
        "id": "hv3Yy_f1Qtik",
        "outputId": "a6be2b44-9b12-4a0b-e993-58beb56265d0"
      },
      "execution_count": null,
      "outputs": [
        {
          "output_type": "stream",
          "name": "stdout",
          "text": [
            "(549, 18) (549,) (297, 18) (297,)\n"
          ]
        }
      ]
    },
    {
      "cell_type": "markdown",
      "metadata": {
        "nbgrader": {
          "grade": false,
          "grade_id": "cell-88b1a0f688568f2c",
          "locked": true,
          "schema_version": 2,
          "solution": false
        },
        "id": "7xUs2EPnutcL"
      },
      "source": [
        "To get some insights about the dataset, `pandas` might be used. The `train` part is transformed to `pd.DataFrame` below."
      ]
    },
    {
      "cell_type": "code",
      "execution_count": null,
      "metadata": {
        "id": "ivXA_x0RutcL",
        "outputId": "f853a2c3-31b7-4c79-975b-fa8176553bcb",
        "colab": {
          "base_uri": "https://localhost:8080/",
          "height": 520
        }
      },
      "outputs": [
        {
          "output_type": "execute_result",
          "data": {
            "text/plain": [
              "     0   1    2    3   4   5    6   7   8    9    10   11   12  13  14  15  \\\n",
              "0    90  40   83  178  61   8  178  37  21  132  199  472  157  71   1  14   \n",
              "1    89  41   63  134  59   6  123  55  17  137  148  223  150  76  12   3   \n",
              "2    89  35   70  138  58   7  126  53  17  128  147  237  112  64   4  19   \n",
              "3   109  49  103  186  57  11  206  32  23  156  212  630  186  65  12  21   \n",
              "4    87  42   64  150  64  10  133  50  18  141  157  265  159  67   7   0   \n",
              "5    98  39   68  136  56   8  131  52  18  144  159  251  134  72   4  10   \n",
              "6    88  40   73  173  68   7  150  44  19  137  174  341  151  69   2  20   \n",
              "7    96  45   80  162  63   9  146  46  19  148  161  316  161  64   5  10   \n",
              "8   105  51   93  160  51   7  217  30  24  165  240  703  208  81   9  25   \n",
              "9    90  42   63  144  59   7  131  50  18  142  154  259  162  65  15   3   \n",
              "10   92  43   70  124  52   6  139  49  18  144  164  282  172  79   4  16   \n",
              "11   85  45   65  128  56   8  151  45  19  145  170  332  186  81   1  10   \n",
              "12   91  39   77  153  59   8  139  48  18  139  159  289  123  62   8  17   \n",
              "13   79  39   72  127  53   9  142  48  19  135  165  295  144  77   7  21   \n",
              "14  103  57  105  221  69  11  218  30  24  173  226  706  250  73  10   2   \n",
              "\n",
              "     16   17  \n",
              "0   187  193  \n",
              "1   186  188  \n",
              "2   199  207  \n",
              "3   192  201  \n",
              "4   193  201  \n",
              "5   186  187  \n",
              "6   196  200  \n",
              "7   199  207  \n",
              "8   188  188  \n",
              "9   197  204  \n",
              "10  183  185  \n",
              "11  179  184  \n",
              "12  201  209  \n",
              "13  181  189  \n",
              "14  187  195  "
            ],
            "text/html": [
              "\n",
              "  <div id=\"df-71d9ce77-d057-4a6b-944d-0047c8858c71\">\n",
              "    <div class=\"colab-df-container\">\n",
              "      <div>\n",
              "<style scoped>\n",
              "    .dataframe tbody tr th:only-of-type {\n",
              "        vertical-align: middle;\n",
              "    }\n",
              "\n",
              "    .dataframe tbody tr th {\n",
              "        vertical-align: top;\n",
              "    }\n",
              "\n",
              "    .dataframe thead th {\n",
              "        text-align: right;\n",
              "    }\n",
              "</style>\n",
              "<table border=\"1\" class=\"dataframe\">\n",
              "  <thead>\n",
              "    <tr style=\"text-align: right;\">\n",
              "      <th></th>\n",
              "      <th>0</th>\n",
              "      <th>1</th>\n",
              "      <th>2</th>\n",
              "      <th>3</th>\n",
              "      <th>4</th>\n",
              "      <th>5</th>\n",
              "      <th>6</th>\n",
              "      <th>7</th>\n",
              "      <th>8</th>\n",
              "      <th>9</th>\n",
              "      <th>10</th>\n",
              "      <th>11</th>\n",
              "      <th>12</th>\n",
              "      <th>13</th>\n",
              "      <th>14</th>\n",
              "      <th>15</th>\n",
              "      <th>16</th>\n",
              "      <th>17</th>\n",
              "    </tr>\n",
              "  </thead>\n",
              "  <tbody>\n",
              "    <tr>\n",
              "      <th>0</th>\n",
              "      <td>90</td>\n",
              "      <td>40</td>\n",
              "      <td>83</td>\n",
              "      <td>178</td>\n",
              "      <td>61</td>\n",
              "      <td>8</td>\n",
              "      <td>178</td>\n",
              "      <td>37</td>\n",
              "      <td>21</td>\n",
              "      <td>132</td>\n",
              "      <td>199</td>\n",
              "      <td>472</td>\n",
              "      <td>157</td>\n",
              "      <td>71</td>\n",
              "      <td>1</td>\n",
              "      <td>14</td>\n",
              "      <td>187</td>\n",
              "      <td>193</td>\n",
              "    </tr>\n",
              "    <tr>\n",
              "      <th>1</th>\n",
              "      <td>89</td>\n",
              "      <td>41</td>\n",
              "      <td>63</td>\n",
              "      <td>134</td>\n",
              "      <td>59</td>\n",
              "      <td>6</td>\n",
              "      <td>123</td>\n",
              "      <td>55</td>\n",
              "      <td>17</td>\n",
              "      <td>137</td>\n",
              "      <td>148</td>\n",
              "      <td>223</td>\n",
              "      <td>150</td>\n",
              "      <td>76</td>\n",
              "      <td>12</td>\n",
              "      <td>3</td>\n",
              "      <td>186</td>\n",
              "      <td>188</td>\n",
              "    </tr>\n",
              "    <tr>\n",
              "      <th>2</th>\n",
              "      <td>89</td>\n",
              "      <td>35</td>\n",
              "      <td>70</td>\n",
              "      <td>138</td>\n",
              "      <td>58</td>\n",
              "      <td>7</td>\n",
              "      <td>126</td>\n",
              "      <td>53</td>\n",
              "      <td>17</td>\n",
              "      <td>128</td>\n",
              "      <td>147</td>\n",
              "      <td>237</td>\n",
              "      <td>112</td>\n",
              "      <td>64</td>\n",
              "      <td>4</td>\n",
              "      <td>19</td>\n",
              "      <td>199</td>\n",
              "      <td>207</td>\n",
              "    </tr>\n",
              "    <tr>\n",
              "      <th>3</th>\n",
              "      <td>109</td>\n",
              "      <td>49</td>\n",
              "      <td>103</td>\n",
              "      <td>186</td>\n",
              "      <td>57</td>\n",
              "      <td>11</td>\n",
              "      <td>206</td>\n",
              "      <td>32</td>\n",
              "      <td>23</td>\n",
              "      <td>156</td>\n",
              "      <td>212</td>\n",
              "      <td>630</td>\n",
              "      <td>186</td>\n",
              "      <td>65</td>\n",
              "      <td>12</td>\n",
              "      <td>21</td>\n",
              "      <td>192</td>\n",
              "      <td>201</td>\n",
              "    </tr>\n",
              "    <tr>\n",
              "      <th>4</th>\n",
              "      <td>87</td>\n",
              "      <td>42</td>\n",
              "      <td>64</td>\n",
              "      <td>150</td>\n",
              "      <td>64</td>\n",
              "      <td>10</td>\n",
              "      <td>133</td>\n",
              "      <td>50</td>\n",
              "      <td>18</td>\n",
              "      <td>141</td>\n",
              "      <td>157</td>\n",
              "      <td>265</td>\n",
              "      <td>159</td>\n",
              "      <td>67</td>\n",
              "      <td>7</td>\n",
              "      <td>0</td>\n",
              "      <td>193</td>\n",
              "      <td>201</td>\n",
              "    </tr>\n",
              "    <tr>\n",
              "      <th>5</th>\n",
              "      <td>98</td>\n",
              "      <td>39</td>\n",
              "      <td>68</td>\n",
              "      <td>136</td>\n",
              "      <td>56</td>\n",
              "      <td>8</td>\n",
              "      <td>131</td>\n",
              "      <td>52</td>\n",
              "      <td>18</td>\n",
              "      <td>144</td>\n",
              "      <td>159</td>\n",
              "      <td>251</td>\n",
              "      <td>134</td>\n",
              "      <td>72</td>\n",
              "      <td>4</td>\n",
              "      <td>10</td>\n",
              "      <td>186</td>\n",
              "      <td>187</td>\n",
              "    </tr>\n",
              "    <tr>\n",
              "      <th>6</th>\n",
              "      <td>88</td>\n",
              "      <td>40</td>\n",
              "      <td>73</td>\n",
              "      <td>173</td>\n",
              "      <td>68</td>\n",
              "      <td>7</td>\n",
              "      <td>150</td>\n",
              "      <td>44</td>\n",
              "      <td>19</td>\n",
              "      <td>137</td>\n",
              "      <td>174</td>\n",
              "      <td>341</td>\n",
              "      <td>151</td>\n",
              "      <td>69</td>\n",
              "      <td>2</td>\n",
              "      <td>20</td>\n",
              "      <td>196</td>\n",
              "      <td>200</td>\n",
              "    </tr>\n",
              "    <tr>\n",
              "      <th>7</th>\n",
              "      <td>96</td>\n",
              "      <td>45</td>\n",
              "      <td>80</td>\n",
              "      <td>162</td>\n",
              "      <td>63</td>\n",
              "      <td>9</td>\n",
              "      <td>146</td>\n",
              "      <td>46</td>\n",
              "      <td>19</td>\n",
              "      <td>148</td>\n",
              "      <td>161</td>\n",
              "      <td>316</td>\n",
              "      <td>161</td>\n",
              "      <td>64</td>\n",
              "      <td>5</td>\n",
              "      <td>10</td>\n",
              "      <td>199</td>\n",
              "      <td>207</td>\n",
              "    </tr>\n",
              "    <tr>\n",
              "      <th>8</th>\n",
              "      <td>105</td>\n",
              "      <td>51</td>\n",
              "      <td>93</td>\n",
              "      <td>160</td>\n",
              "      <td>51</td>\n",
              "      <td>7</td>\n",
              "      <td>217</td>\n",
              "      <td>30</td>\n",
              "      <td>24</td>\n",
              "      <td>165</td>\n",
              "      <td>240</td>\n",
              "      <td>703</td>\n",
              "      <td>208</td>\n",
              "      <td>81</td>\n",
              "      <td>9</td>\n",
              "      <td>25</td>\n",
              "      <td>188</td>\n",
              "      <td>188</td>\n",
              "    </tr>\n",
              "    <tr>\n",
              "      <th>9</th>\n",
              "      <td>90</td>\n",
              "      <td>42</td>\n",
              "      <td>63</td>\n",
              "      <td>144</td>\n",
              "      <td>59</td>\n",
              "      <td>7</td>\n",
              "      <td>131</td>\n",
              "      <td>50</td>\n",
              "      <td>18</td>\n",
              "      <td>142</td>\n",
              "      <td>154</td>\n",
              "      <td>259</td>\n",
              "      <td>162</td>\n",
              "      <td>65</td>\n",
              "      <td>15</td>\n",
              "      <td>3</td>\n",
              "      <td>197</td>\n",
              "      <td>204</td>\n",
              "    </tr>\n",
              "    <tr>\n",
              "      <th>10</th>\n",
              "      <td>92</td>\n",
              "      <td>43</td>\n",
              "      <td>70</td>\n",
              "      <td>124</td>\n",
              "      <td>52</td>\n",
              "      <td>6</td>\n",
              "      <td>139</td>\n",
              "      <td>49</td>\n",
              "      <td>18</td>\n",
              "      <td>144</td>\n",
              "      <td>164</td>\n",
              "      <td>282</td>\n",
              "      <td>172</td>\n",
              "      <td>79</td>\n",
              "      <td>4</td>\n",
              "      <td>16</td>\n",
              "      <td>183</td>\n",
              "      <td>185</td>\n",
              "    </tr>\n",
              "    <tr>\n",
              "      <th>11</th>\n",
              "      <td>85</td>\n",
              "      <td>45</td>\n",
              "      <td>65</td>\n",
              "      <td>128</td>\n",
              "      <td>56</td>\n",
              "      <td>8</td>\n",
              "      <td>151</td>\n",
              "      <td>45</td>\n",
              "      <td>19</td>\n",
              "      <td>145</td>\n",
              "      <td>170</td>\n",
              "      <td>332</td>\n",
              "      <td>186</td>\n",
              "      <td>81</td>\n",
              "      <td>1</td>\n",
              "      <td>10</td>\n",
              "      <td>179</td>\n",
              "      <td>184</td>\n",
              "    </tr>\n",
              "    <tr>\n",
              "      <th>12</th>\n",
              "      <td>91</td>\n",
              "      <td>39</td>\n",
              "      <td>77</td>\n",
              "      <td>153</td>\n",
              "      <td>59</td>\n",
              "      <td>8</td>\n",
              "      <td>139</td>\n",
              "      <td>48</td>\n",
              "      <td>18</td>\n",
              "      <td>139</td>\n",
              "      <td>159</td>\n",
              "      <td>289</td>\n",
              "      <td>123</td>\n",
              "      <td>62</td>\n",
              "      <td>8</td>\n",
              "      <td>17</td>\n",
              "      <td>201</td>\n",
              "      <td>209</td>\n",
              "    </tr>\n",
              "    <tr>\n",
              "      <th>13</th>\n",
              "      <td>79</td>\n",
              "      <td>39</td>\n",
              "      <td>72</td>\n",
              "      <td>127</td>\n",
              "      <td>53</td>\n",
              "      <td>9</td>\n",
              "      <td>142</td>\n",
              "      <td>48</td>\n",
              "      <td>19</td>\n",
              "      <td>135</td>\n",
              "      <td>165</td>\n",
              "      <td>295</td>\n",
              "      <td>144</td>\n",
              "      <td>77</td>\n",
              "      <td>7</td>\n",
              "      <td>21</td>\n",
              "      <td>181</td>\n",
              "      <td>189</td>\n",
              "    </tr>\n",
              "    <tr>\n",
              "      <th>14</th>\n",
              "      <td>103</td>\n",
              "      <td>57</td>\n",
              "      <td>105</td>\n",
              "      <td>221</td>\n",
              "      <td>69</td>\n",
              "      <td>11</td>\n",
              "      <td>218</td>\n",
              "      <td>30</td>\n",
              "      <td>24</td>\n",
              "      <td>173</td>\n",
              "      <td>226</td>\n",
              "      <td>706</td>\n",
              "      <td>250</td>\n",
              "      <td>73</td>\n",
              "      <td>10</td>\n",
              "      <td>2</td>\n",
              "      <td>187</td>\n",
              "      <td>195</td>\n",
              "    </tr>\n",
              "  </tbody>\n",
              "</table>\n",
              "</div>\n",
              "      <button class=\"colab-df-convert\" onclick=\"convertToInteractive('df-71d9ce77-d057-4a6b-944d-0047c8858c71')\"\n",
              "              title=\"Convert this dataframe to an interactive table.\"\n",
              "              style=\"display:none;\">\n",
              "        \n",
              "  <svg xmlns=\"http://www.w3.org/2000/svg\" height=\"24px\"viewBox=\"0 0 24 24\"\n",
              "       width=\"24px\">\n",
              "    <path d=\"M0 0h24v24H0V0z\" fill=\"none\"/>\n",
              "    <path d=\"M18.56 5.44l.94 2.06.94-2.06 2.06-.94-2.06-.94-.94-2.06-.94 2.06-2.06.94zm-11 1L8.5 8.5l.94-2.06 2.06-.94-2.06-.94L8.5 2.5l-.94 2.06-2.06.94zm10 10l.94 2.06.94-2.06 2.06-.94-2.06-.94-.94-2.06-.94 2.06-2.06.94z\"/><path d=\"M17.41 7.96l-1.37-1.37c-.4-.4-.92-.59-1.43-.59-.52 0-1.04.2-1.43.59L10.3 9.45l-7.72 7.72c-.78.78-.78 2.05 0 2.83L4 21.41c.39.39.9.59 1.41.59.51 0 1.02-.2 1.41-.59l7.78-7.78 2.81-2.81c.8-.78.8-2.07 0-2.86zM5.41 20L4 18.59l7.72-7.72 1.47 1.35L5.41 20z\"/>\n",
              "  </svg>\n",
              "      </button>\n",
              "      \n",
              "  <style>\n",
              "    .colab-df-container {\n",
              "      display:flex;\n",
              "      flex-wrap:wrap;\n",
              "      gap: 12px;\n",
              "    }\n",
              "\n",
              "    .colab-df-convert {\n",
              "      background-color: #E8F0FE;\n",
              "      border: none;\n",
              "      border-radius: 50%;\n",
              "      cursor: pointer;\n",
              "      display: none;\n",
              "      fill: #1967D2;\n",
              "      height: 32px;\n",
              "      padding: 0 0 0 0;\n",
              "      width: 32px;\n",
              "    }\n",
              "\n",
              "    .colab-df-convert:hover {\n",
              "      background-color: #E2EBFA;\n",
              "      box-shadow: 0px 1px 2px rgba(60, 64, 67, 0.3), 0px 1px 3px 1px rgba(60, 64, 67, 0.15);\n",
              "      fill: #174EA6;\n",
              "    }\n",
              "\n",
              "    [theme=dark] .colab-df-convert {\n",
              "      background-color: #3B4455;\n",
              "      fill: #D2E3FC;\n",
              "    }\n",
              "\n",
              "    [theme=dark] .colab-df-convert:hover {\n",
              "      background-color: #434B5C;\n",
              "      box-shadow: 0px 1px 3px 1px rgba(0, 0, 0, 0.15);\n",
              "      filter: drop-shadow(0px 1px 2px rgba(0, 0, 0, 0.3));\n",
              "      fill: #FFFFFF;\n",
              "    }\n",
              "  </style>\n",
              "\n",
              "      <script>\n",
              "        const buttonEl =\n",
              "          document.querySelector('#df-71d9ce77-d057-4a6b-944d-0047c8858c71 button.colab-df-convert');\n",
              "        buttonEl.style.display =\n",
              "          google.colab.kernel.accessAllowed ? 'block' : 'none';\n",
              "\n",
              "        async function convertToInteractive(key) {\n",
              "          const element = document.querySelector('#df-71d9ce77-d057-4a6b-944d-0047c8858c71');\n",
              "          const dataTable =\n",
              "            await google.colab.kernel.invokeFunction('convertToInteractive',\n",
              "                                                     [key], {});\n",
              "          if (!dataTable) return;\n",
              "\n",
              "          const docLinkHtml = 'Like what you see? Visit the ' +\n",
              "            '<a target=\"_blank\" href=https://colab.research.google.com/notebooks/data_table.ipynb>data table notebook</a>'\n",
              "            + ' to learn more about interactive tables.';\n",
              "          element.innerHTML = '';\n",
              "          dataTable['output_type'] = 'display_data';\n",
              "          await google.colab.output.renderOutput(dataTable, element);\n",
              "          const docLink = document.createElement('div');\n",
              "          docLink.innerHTML = docLinkHtml;\n",
              "          element.appendChild(docLink);\n",
              "        }\n",
              "      </script>\n",
              "    </div>\n",
              "  </div>\n",
              "  "
            ]
          },
          "metadata": {},
          "execution_count": 11
        }
      ],
      "source": [
        "X_train_pd = pd.DataFrame(X_train)\n",
        "\n",
        "# First 15 rows of our dataset.\n",
        "X_train_pd.head(15)"
      ]
    },
    {
      "cell_type": "markdown",
      "metadata": {
        "nbgrader": {
          "grade": false,
          "grade_id": "cell-98e7d91d77d65fcf",
          "locked": true,
          "schema_version": 2,
          "solution": false
        },
        "id": "H8P-hmu2utcN"
      },
      "source": [
        "Methods `describe` and `info` deliver some useful information."
      ]
    },
    {
      "cell_type": "code",
      "execution_count": null,
      "metadata": {
        "id": "DGtQo8uRutcO",
        "outputId": "56aef459-336f-4324-de96-c2be86b7383c",
        "colab": {
          "base_uri": "https://localhost:8080/",
          "height": 364
        }
      },
      "outputs": [
        {
          "output_type": "execute_result",
          "data": {
            "text/plain": [
              "               0           1           2           3           4           5   \\\n",
              "count  549.000000  549.000000  549.000000  549.000000  549.000000  549.000000   \n",
              "mean    93.522769   44.786885   81.795993  168.868852   61.856102    8.591985   \n",
              "std      8.219721    5.994229   15.394043   33.830798    8.551436    4.951702   \n",
              "min     73.000000   34.000000   44.000000  105.000000   47.000000    2.000000   \n",
              "25%     87.000000   40.000000   70.000000  140.000000   57.000000    7.000000   \n",
              "50%     93.000000   44.000000   79.000000  167.000000   61.000000    8.000000   \n",
              "75%     99.000000   49.000000   96.000000  196.000000   65.000000   10.000000   \n",
              "max    116.000000   59.000000  112.000000  333.000000  138.000000   55.000000   \n",
              "\n",
              "               6           7           8           9           10          11  \\\n",
              "count  549.000000  549.000000  549.000000  549.000000  549.000000  549.000000   \n",
              "mean   167.927140   41.040073   20.504554  147.806922  188.074681  434.340619   \n",
              "std     31.862819    7.564216    2.470719   14.208788   30.324400  168.502406   \n",
              "min    114.000000   26.000000   17.000000  118.000000  132.000000  192.000000   \n",
              "25%    147.000000   33.000000   19.000000  137.000000  167.000000  320.000000   \n",
              "50%    157.000000   43.000000   20.000000  146.000000  177.000000  362.000000   \n",
              "75%    197.000000   46.000000   23.000000  158.000000  216.000000  578.000000   \n",
              "max    261.000000   59.000000   28.000000  188.000000  320.000000  998.000000   \n",
              "\n",
              "               12          13          14          15          16          17  \n",
              "count  549.000000  549.000000  549.000000  549.000000  549.000000  549.000000  \n",
              "mean   174.200364   72.477231    6.491803   12.198543  189.091075  195.726776  \n",
              "std     31.825194    7.928624    4.896597    9.036358    6.236145    7.448242  \n",
              "min    112.000000   60.000000    0.000000    0.000000  176.000000  181.000000  \n",
              "25%    149.000000   67.000000    2.000000    5.000000  184.000000  190.000000  \n",
              "50%    174.000000   72.000000    6.000000   11.000000  189.000000  197.000000  \n",
              "75%    197.000000   76.000000   10.000000   18.000000  193.000000  201.000000  \n",
              "max    268.000000  135.000000   22.000000   41.000000  206.000000  211.000000  "
            ],
            "text/html": [
              "\n",
              "  <div id=\"df-3a85ab7c-3ffa-414f-a5c5-4ad0332c25fb\">\n",
              "    <div class=\"colab-df-container\">\n",
              "      <div>\n",
              "<style scoped>\n",
              "    .dataframe tbody tr th:only-of-type {\n",
              "        vertical-align: middle;\n",
              "    }\n",
              "\n",
              "    .dataframe tbody tr th {\n",
              "        vertical-align: top;\n",
              "    }\n",
              "\n",
              "    .dataframe thead th {\n",
              "        text-align: right;\n",
              "    }\n",
              "</style>\n",
              "<table border=\"1\" class=\"dataframe\">\n",
              "  <thead>\n",
              "    <tr style=\"text-align: right;\">\n",
              "      <th></th>\n",
              "      <th>0</th>\n",
              "      <th>1</th>\n",
              "      <th>2</th>\n",
              "      <th>3</th>\n",
              "      <th>4</th>\n",
              "      <th>5</th>\n",
              "      <th>6</th>\n",
              "      <th>7</th>\n",
              "      <th>8</th>\n",
              "      <th>9</th>\n",
              "      <th>10</th>\n",
              "      <th>11</th>\n",
              "      <th>12</th>\n",
              "      <th>13</th>\n",
              "      <th>14</th>\n",
              "      <th>15</th>\n",
              "      <th>16</th>\n",
              "      <th>17</th>\n",
              "    </tr>\n",
              "  </thead>\n",
              "  <tbody>\n",
              "    <tr>\n",
              "      <th>count</th>\n",
              "      <td>549.000000</td>\n",
              "      <td>549.000000</td>\n",
              "      <td>549.000000</td>\n",
              "      <td>549.000000</td>\n",
              "      <td>549.000000</td>\n",
              "      <td>549.000000</td>\n",
              "      <td>549.000000</td>\n",
              "      <td>549.000000</td>\n",
              "      <td>549.000000</td>\n",
              "      <td>549.000000</td>\n",
              "      <td>549.000000</td>\n",
              "      <td>549.000000</td>\n",
              "      <td>549.000000</td>\n",
              "      <td>549.000000</td>\n",
              "      <td>549.000000</td>\n",
              "      <td>549.000000</td>\n",
              "      <td>549.000000</td>\n",
              "      <td>549.000000</td>\n",
              "    </tr>\n",
              "    <tr>\n",
              "      <th>mean</th>\n",
              "      <td>93.522769</td>\n",
              "      <td>44.786885</td>\n",
              "      <td>81.795993</td>\n",
              "      <td>168.868852</td>\n",
              "      <td>61.856102</td>\n",
              "      <td>8.591985</td>\n",
              "      <td>167.927140</td>\n",
              "      <td>41.040073</td>\n",
              "      <td>20.504554</td>\n",
              "      <td>147.806922</td>\n",
              "      <td>188.074681</td>\n",
              "      <td>434.340619</td>\n",
              "      <td>174.200364</td>\n",
              "      <td>72.477231</td>\n",
              "      <td>6.491803</td>\n",
              "      <td>12.198543</td>\n",
              "      <td>189.091075</td>\n",
              "      <td>195.726776</td>\n",
              "    </tr>\n",
              "    <tr>\n",
              "      <th>std</th>\n",
              "      <td>8.219721</td>\n",
              "      <td>5.994229</td>\n",
              "      <td>15.394043</td>\n",
              "      <td>33.830798</td>\n",
              "      <td>8.551436</td>\n",
              "      <td>4.951702</td>\n",
              "      <td>31.862819</td>\n",
              "      <td>7.564216</td>\n",
              "      <td>2.470719</td>\n",
              "      <td>14.208788</td>\n",
              "      <td>30.324400</td>\n",
              "      <td>168.502406</td>\n",
              "      <td>31.825194</td>\n",
              "      <td>7.928624</td>\n",
              "      <td>4.896597</td>\n",
              "      <td>9.036358</td>\n",
              "      <td>6.236145</td>\n",
              "      <td>7.448242</td>\n",
              "    </tr>\n",
              "    <tr>\n",
              "      <th>min</th>\n",
              "      <td>73.000000</td>\n",
              "      <td>34.000000</td>\n",
              "      <td>44.000000</td>\n",
              "      <td>105.000000</td>\n",
              "      <td>47.000000</td>\n",
              "      <td>2.000000</td>\n",
              "      <td>114.000000</td>\n",
              "      <td>26.000000</td>\n",
              "      <td>17.000000</td>\n",
              "      <td>118.000000</td>\n",
              "      <td>132.000000</td>\n",
              "      <td>192.000000</td>\n",
              "      <td>112.000000</td>\n",
              "      <td>60.000000</td>\n",
              "      <td>0.000000</td>\n",
              "      <td>0.000000</td>\n",
              "      <td>176.000000</td>\n",
              "      <td>181.000000</td>\n",
              "    </tr>\n",
              "    <tr>\n",
              "      <th>25%</th>\n",
              "      <td>87.000000</td>\n",
              "      <td>40.000000</td>\n",
              "      <td>70.000000</td>\n",
              "      <td>140.000000</td>\n",
              "      <td>57.000000</td>\n",
              "      <td>7.000000</td>\n",
              "      <td>147.000000</td>\n",
              "      <td>33.000000</td>\n",
              "      <td>19.000000</td>\n",
              "      <td>137.000000</td>\n",
              "      <td>167.000000</td>\n",
              "      <td>320.000000</td>\n",
              "      <td>149.000000</td>\n",
              "      <td>67.000000</td>\n",
              "      <td>2.000000</td>\n",
              "      <td>5.000000</td>\n",
              "      <td>184.000000</td>\n",
              "      <td>190.000000</td>\n",
              "    </tr>\n",
              "    <tr>\n",
              "      <th>50%</th>\n",
              "      <td>93.000000</td>\n",
              "      <td>44.000000</td>\n",
              "      <td>79.000000</td>\n",
              "      <td>167.000000</td>\n",
              "      <td>61.000000</td>\n",
              "      <td>8.000000</td>\n",
              "      <td>157.000000</td>\n",
              "      <td>43.000000</td>\n",
              "      <td>20.000000</td>\n",
              "      <td>146.000000</td>\n",
              "      <td>177.000000</td>\n",
              "      <td>362.000000</td>\n",
              "      <td>174.000000</td>\n",
              "      <td>72.000000</td>\n",
              "      <td>6.000000</td>\n",
              "      <td>11.000000</td>\n",
              "      <td>189.000000</td>\n",
              "      <td>197.000000</td>\n",
              "    </tr>\n",
              "    <tr>\n",
              "      <th>75%</th>\n",
              "      <td>99.000000</td>\n",
              "      <td>49.000000</td>\n",
              "      <td>96.000000</td>\n",
              "      <td>196.000000</td>\n",
              "      <td>65.000000</td>\n",
              "      <td>10.000000</td>\n",
              "      <td>197.000000</td>\n",
              "      <td>46.000000</td>\n",
              "      <td>23.000000</td>\n",
              "      <td>158.000000</td>\n",
              "      <td>216.000000</td>\n",
              "      <td>578.000000</td>\n",
              "      <td>197.000000</td>\n",
              "      <td>76.000000</td>\n",
              "      <td>10.000000</td>\n",
              "      <td>18.000000</td>\n",
              "      <td>193.000000</td>\n",
              "      <td>201.000000</td>\n",
              "    </tr>\n",
              "    <tr>\n",
              "      <th>max</th>\n",
              "      <td>116.000000</td>\n",
              "      <td>59.000000</td>\n",
              "      <td>112.000000</td>\n",
              "      <td>333.000000</td>\n",
              "      <td>138.000000</td>\n",
              "      <td>55.000000</td>\n",
              "      <td>261.000000</td>\n",
              "      <td>59.000000</td>\n",
              "      <td>28.000000</td>\n",
              "      <td>188.000000</td>\n",
              "      <td>320.000000</td>\n",
              "      <td>998.000000</td>\n",
              "      <td>268.000000</td>\n",
              "      <td>135.000000</td>\n",
              "      <td>22.000000</td>\n",
              "      <td>41.000000</td>\n",
              "      <td>206.000000</td>\n",
              "      <td>211.000000</td>\n",
              "    </tr>\n",
              "  </tbody>\n",
              "</table>\n",
              "</div>\n",
              "      <button class=\"colab-df-convert\" onclick=\"convertToInteractive('df-3a85ab7c-3ffa-414f-a5c5-4ad0332c25fb')\"\n",
              "              title=\"Convert this dataframe to an interactive table.\"\n",
              "              style=\"display:none;\">\n",
              "        \n",
              "  <svg xmlns=\"http://www.w3.org/2000/svg\" height=\"24px\"viewBox=\"0 0 24 24\"\n",
              "       width=\"24px\">\n",
              "    <path d=\"M0 0h24v24H0V0z\" fill=\"none\"/>\n",
              "    <path d=\"M18.56 5.44l.94 2.06.94-2.06 2.06-.94-2.06-.94-.94-2.06-.94 2.06-2.06.94zm-11 1L8.5 8.5l.94-2.06 2.06-.94-2.06-.94L8.5 2.5l-.94 2.06-2.06.94zm10 10l.94 2.06.94-2.06 2.06-.94-2.06-.94-.94-2.06-.94 2.06-2.06.94z\"/><path d=\"M17.41 7.96l-1.37-1.37c-.4-.4-.92-.59-1.43-.59-.52 0-1.04.2-1.43.59L10.3 9.45l-7.72 7.72c-.78.78-.78 2.05 0 2.83L4 21.41c.39.39.9.59 1.41.59.51 0 1.02-.2 1.41-.59l7.78-7.78 2.81-2.81c.8-.78.8-2.07 0-2.86zM5.41 20L4 18.59l7.72-7.72 1.47 1.35L5.41 20z\"/>\n",
              "  </svg>\n",
              "      </button>\n",
              "      \n",
              "  <style>\n",
              "    .colab-df-container {\n",
              "      display:flex;\n",
              "      flex-wrap:wrap;\n",
              "      gap: 12px;\n",
              "    }\n",
              "\n",
              "    .colab-df-convert {\n",
              "      background-color: #E8F0FE;\n",
              "      border: none;\n",
              "      border-radius: 50%;\n",
              "      cursor: pointer;\n",
              "      display: none;\n",
              "      fill: #1967D2;\n",
              "      height: 32px;\n",
              "      padding: 0 0 0 0;\n",
              "      width: 32px;\n",
              "    }\n",
              "\n",
              "    .colab-df-convert:hover {\n",
              "      background-color: #E2EBFA;\n",
              "      box-shadow: 0px 1px 2px rgba(60, 64, 67, 0.3), 0px 1px 3px 1px rgba(60, 64, 67, 0.15);\n",
              "      fill: #174EA6;\n",
              "    }\n",
              "\n",
              "    [theme=dark] .colab-df-convert {\n",
              "      background-color: #3B4455;\n",
              "      fill: #D2E3FC;\n",
              "    }\n",
              "\n",
              "    [theme=dark] .colab-df-convert:hover {\n",
              "      background-color: #434B5C;\n",
              "      box-shadow: 0px 1px 3px 1px rgba(0, 0, 0, 0.15);\n",
              "      filter: drop-shadow(0px 1px 2px rgba(0, 0, 0, 0.3));\n",
              "      fill: #FFFFFF;\n",
              "    }\n",
              "  </style>\n",
              "\n",
              "      <script>\n",
              "        const buttonEl =\n",
              "          document.querySelector('#df-3a85ab7c-3ffa-414f-a5c5-4ad0332c25fb button.colab-df-convert');\n",
              "        buttonEl.style.display =\n",
              "          google.colab.kernel.accessAllowed ? 'block' : 'none';\n",
              "\n",
              "        async function convertToInteractive(key) {\n",
              "          const element = document.querySelector('#df-3a85ab7c-3ffa-414f-a5c5-4ad0332c25fb');\n",
              "          const dataTable =\n",
              "            await google.colab.kernel.invokeFunction('convertToInteractive',\n",
              "                                                     [key], {});\n",
              "          if (!dataTable) return;\n",
              "\n",
              "          const docLinkHtml = 'Like what you see? Visit the ' +\n",
              "            '<a target=\"_blank\" href=https://colab.research.google.com/notebooks/data_table.ipynb>data table notebook</a>'\n",
              "            + ' to learn more about interactive tables.';\n",
              "          element.innerHTML = '';\n",
              "          dataTable['output_type'] = 'display_data';\n",
              "          await google.colab.output.renderOutput(dataTable, element);\n",
              "          const docLink = document.createElement('div');\n",
              "          docLink.innerHTML = docLinkHtml;\n",
              "          element.appendChild(docLink);\n",
              "        }\n",
              "      </script>\n",
              "    </div>\n",
              "  </div>\n",
              "  "
            ]
          },
          "metadata": {},
          "execution_count": 12
        }
      ],
      "source": [
        "X_train_pd.describe()"
      ]
    },
    {
      "cell_type": "code",
      "execution_count": null,
      "metadata": {
        "id": "pvZ5AOXYutcO",
        "outputId": "534b4d15-c498-41e6-fdca-0a4b0c067347",
        "colab": {
          "base_uri": "https://localhost:8080/"
        }
      },
      "outputs": [
        {
          "output_type": "stream",
          "name": "stdout",
          "text": [
            "<class 'pandas.core.frame.DataFrame'>\n",
            "RangeIndex: 549 entries, 0 to 548\n",
            "Data columns (total 18 columns):\n",
            " #   Column  Non-Null Count  Dtype\n",
            "---  ------  --------------  -----\n",
            " 0   0       549 non-null    int64\n",
            " 1   1       549 non-null    int64\n",
            " 2   2       549 non-null    int64\n",
            " 3   3       549 non-null    int64\n",
            " 4   4       549 non-null    int64\n",
            " 5   5       549 non-null    int64\n",
            " 6   6       549 non-null    int64\n",
            " 7   7       549 non-null    int64\n",
            " 8   8       549 non-null    int64\n",
            " 9   9       549 non-null    int64\n",
            " 10  10      549 non-null    int64\n",
            " 11  11      549 non-null    int64\n",
            " 12  12      549 non-null    int64\n",
            " 13  13      549 non-null    int64\n",
            " 14  14      549 non-null    int64\n",
            " 15  15      549 non-null    int64\n",
            " 16  16      549 non-null    int64\n",
            " 17  17      549 non-null    int64\n",
            "dtypes: int64(18)\n",
            "memory usage: 77.3 KB\n"
          ]
        }
      ],
      "source": [
        "X_train_pd.info()"
      ]
    },
    {
      "cell_type": "markdown",
      "metadata": {
        "nbgrader": {
          "grade": false,
          "grade_id": "cell-be844269be69c387",
          "locked": true,
          "schema_version": 2,
          "solution": false
        },
        "id": "ASVMHABPutcP"
      },
      "source": [
        "### 2. Machine Learning pipeline\n",
        "Here you are supposed to perform the desired transformations. Please, explain your results briefly after each task."
      ]
    },
    {
      "cell_type": "markdown",
      "metadata": {
        "id": "u-D-uuPCutcP"
      },
      "source": [
        "#### 2.0. Data preprocessing\n",
        "* Make some transformations of the dataset (if necessary). Briefly explain the transformations"
      ]
    },
    {
      "cell_type": "markdown",
      "source": [
        "Как мы заметили, первый столбец"
      ],
      "metadata": {
        "id": "ll5gsz4SHnLU"
      }
    },
    {
      "cell_type": "markdown",
      "source": [
        "Раз впереди ждут линейные методы, то хорошая идея будет отнормировать данные, а также посмотреть на них. "
      ],
      "metadata": {
        "id": "5WRmuo7A-fkS"
      }
    },
    {
      "cell_type": "code",
      "source": [
        "#А давайте посмотрим на баланс классов\n",
        "classes, class_counts = np.unique(y_train, return_counts=True)\n",
        "print(classes)\n",
        "print(class_counts)\n",
        "print(class_counts/len(y_train)*100)"
      ],
      "metadata": {
        "colab": {
          "base_uri": "https://localhost:8080/"
        },
        "id": "75zChquvCCNA",
        "outputId": "a3620ea8-59d1-4176-de58-db5f56b30593"
      },
      "execution_count": null,
      "outputs": [
        {
          "output_type": "stream",
          "name": "stdout",
          "text": [
            "['bus' 'opel' 'saab' 'van']\n",
            "[141 151 129 128]\n",
            "[25.68306011 27.50455373 23.49726776 23.3151184 ]\n"
          ]
        }
      ]
    },
    {
      "cell_type": "markdown",
      "source": [
        "В целом, все хорошо с балансом классов"
      ],
      "metadata": {
        "id": "c6nqcj8jCdDy"
      }
    },
    {
      "cell_type": "code",
      "source": [
        "import seaborn as sns\n",
        "import matplotlib.pyplot as plt"
      ],
      "metadata": {
        "id": "HPTf3rgE-9V1"
      },
      "execution_count": null,
      "outputs": []
    },
    {
      "cell_type": "code",
      "execution_count": null,
      "metadata": {
        "nbgrader": {
          "grade": true,
          "grade_id": "cell-a1514aa189a49fca",
          "locked": false,
          "points": 15,
          "schema_version": 2,
          "solution": true
        },
        "id": "WIftue4IutcQ",
        "colab": {
          "base_uri": "https://localhost:8080/",
          "height": 286
        },
        "outputId": "1ff4a413-58b5-44a6-88d5-c58d0bf9f0eb"
      },
      "outputs": [
        {
          "output_type": "execute_result",
          "data": {
            "text/plain": [
              "<matplotlib.axes._subplots.AxesSubplot at 0x7fb7c5cd4d50>"
            ]
          },
          "metadata": {},
          "execution_count": 16
        },
        {
          "output_type": "display_data",
          "data": {
            "text/plain": [
              "<Figure size 432x288 with 2 Axes>"
            ],
            "image/png": "[encoded data removed]"
          },
          "metadata": {
            "needs_background": "light"
          }
        }
      ],
      "source": [
        "sns.heatmap(X_train_pd.corr())"
      ]
    },
    {
      "cell_type": "markdown",
      "source": [
        "Можно увидеть много скоррелированных фичей.\n",
        "Можно было бы что-то поделать, но датасет и так маленький."
      ],
      "metadata": {
        "id": "SrsafMQoAt-Q"
      }
    },
    {
      "cell_type": "code",
      "source": [
        "X_train_pd.hist(bins=50, figsize=(15,15))\n",
        "plt.show()"
      ],
      "metadata": {
        "colab": {
          "base_uri": "https://localhost:8080/",
          "height": 879
        },
        "id": "sr5C7MzzTEjm",
        "outputId": "c2dc5200-e828-4d8e-f14e-3a4c367a2a84"
      },
      "execution_count": null,
      "outputs": [
        {
          "output_type": "display_data",
          "data": {
            "text/plain": [
              "<Figure size 1080x1080 with 20 Axes>"
            ],
            "image/png": "[encoded data removed]"
          },
          "metadata": {
            "needs_background": "light"
          }
        }
      ]
    },
    {
      "cell_type": "markdown",
      "source": [
        "Раз у нас дальше будет логистическая регрессия, поэтому, хорошая идея нормировать фичи\n"
      ],
      "metadata": {
        "id": "pvwxozqYbHMu"
      }
    },
    {
      "cell_type": "code",
      "source": [
        "#Хорошая идея нормировать фичи, если потом идет регрессия \n",
        "from sklearn.preprocessing import StandardScaler"
      ],
      "metadata": {
        "id": "3tfBzqSQVPem"
      },
      "execution_count": null,
      "outputs": []
    },
    {
      "cell_type": "markdown",
      "metadata": {
        "id": "ongA83JYutcQ"
      },
      "source": [
        "#### 2.1. Basic logistic regression\n",
        "* Find optimal hyperparameters for logistic regression with cross-validation on the `train` data (small grid/random search is enough, no need to find the *best* parameters).\n",
        "\n",
        "* Estimate the model quality with `f1` and `accuracy` scores.\n",
        "* Plot a ROC-curve for the trained model. For the multiclass case you might use `scikitplot` library (e.g. `scikitplot.metrics.plot_roc(test_labels, predicted_proba)`).\n",
        "\n",
        "*Note: please, use the following hyperparameters for logistic regression: `multi_class='multinomial'`, `solver='saga'` `tol=1e-3` and ` max_iter=500`.*"
      ]
    },
    {
      "cell_type": "code",
      "source": [
        "from sklearn.model_selection import GridSearchCV\n",
        "from sklearn.pipeline import make_pipeline\n",
        "from sklearn.linear_model import LogisticRegression"
      ],
      "metadata": {
        "id": "S-Rk_wXAewEX"
      },
      "execution_count": null,
      "outputs": []
    },
    {
      "cell_type": "code",
      "execution_count": null,
      "metadata": {
        "nbgrader": {
          "grade": true,
          "grade_id": "cell-1dd5ad5d0845cbbb",
          "locked": false,
          "points": 5,
          "schema_version": 2,
          "solution": true
        },
        "id": "8j0HKTqqutcR"
      },
      "outputs": [],
      "source": [
        "parameters = {\n",
        "    'logisticregression__penalty': ['l1', 'l2'], \n",
        "    'logisticregression__C': np.around(np.logspace(-1, 2, 10), decimals = 2)\n",
        "    }\n",
        "logreg = LogisticRegression(multi_class='multinomial', solver='saga', tol=1e-3, max_iter=500, random_state=0)\n",
        "scoring = ['accuracy','f1_macro']"
      ]
    },
    {
      "cell_type": "code",
      "source": [
        "def grid_cv(model, param, x_train, y_train):\n",
        "  grid = GridSearchCV(model, \n",
        "                           param, scoring=scoring, refit='accuracy', return_train_score=True)\n",
        "  grid.fit(x_train, y_train)\n",
        "  results_grid_cv = zip(grid.cv_results_['params'], \n",
        "                      np.around(grid.cv_results_['mean_train_accuracy'], decimals = 3),\n",
        "                      np.around(grid.cv_results_['mean_train_f1_macro'], decimals = 3),\n",
        "                      np.around(grid.cv_results_['mean_test_accuracy'], decimals = 3), \n",
        "                      np.around(grid.cv_results_['mean_test_f1_macro'], decimals = 3))\n",
        "\n",
        "  return grid, list(results_grid_cv)"
      ],
      "metadata": {
        "id": "Ufzp04VRf3vz"
      },
      "execution_count": null,
      "outputs": []
    },
    {
      "cell_type": "code",
      "source": [
        "grid_logreg, res_logreg = grid_cv(make_pipeline(StandardScaler(), logreg), parameters, X_train, y_train)"
      ],
      "metadata": {
        "id": "dv1Vy-yMpszE",
        "colab": {
          "base_uri": "https://localhost:8080/"
        },
        "outputId": "e909c9eb-1713-4183-848c-e0b6ad23f95a"
      },
      "execution_count": null,
      "outputs": [
        {
          "output_type": "stream",
          "name": "stderr",
          "text": [
            "/usr/local/lib/python3.7/dist-packages/sklearn/linear_model/_sag.py:354: ConvergenceWarning: The max_iter was reached which means the coef_ did not converge\n",
            "  ConvergenceWarning,\n",
            "/usr/local/lib/python3.7/dist-packages/sklearn/linear_model/_sag.py:354: ConvergenceWarning: The max_iter was reached which means the coef_ did not converge\n",
            "  ConvergenceWarning,\n",
            "/usr/local/lib/python3.7/dist-packages/sklearn/linear_model/_sag.py:354: ConvergenceWarning: The max_iter was reached which means the coef_ did not converge\n",
            "  ConvergenceWarning,\n",
            "/usr/local/lib/python3.7/dist-packages/sklearn/linear_model/_sag.py:354: ConvergenceWarning: The max_iter was reached which means the coef_ did not converge\n",
            "  ConvergenceWarning,\n",
            "/usr/local/lib/python3.7/dist-packages/sklearn/linear_model/_sag.py:354: ConvergenceWarning: The max_iter was reached which means the coef_ did not converge\n",
            "  ConvergenceWarning,\n"
          ]
        }
      ]
    },
    {
      "cell_type": "code",
      "source": [
        "print('mean_train_accuracy, mean_train_f1_macro, mean_test_accuracy, mean_test_f1_macro')\n",
        "res_logreg"
      ],
      "metadata": {
        "colab": {
          "base_uri": "https://localhost:8080/"
        },
        "id": "zc3B35dxqG7O",
        "outputId": "fbcb5d00-c5ac-455a-f766-2ffe19a83dbb"
      },
      "execution_count": null,
      "outputs": [
        {
          "output_type": "stream",
          "name": "stdout",
          "text": [
            "mean_train_accuracy, mean_train_f1_macro, mean_test_accuracy, mean_test_f1_macro\n"
          ]
        },
        {
          "output_type": "execute_result",
          "data": {
            "text/plain": [
              "[({'logisticregression__C': 0.1, 'logisticregression__penalty': 'l1'},\n",
              "  0.737,\n",
              "  0.722,\n",
              "  0.712,\n",
              "  0.693),\n",
              " ({'logisticregression__C': 0.1, 'logisticregression__penalty': 'l2'},\n",
              "  0.772,\n",
              "  0.762,\n",
              "  0.752,\n",
              "  0.743),\n",
              " ({'logisticregression__C': 0.22, 'logisticregression__penalty': 'l1'},\n",
              "  0.764,\n",
              "  0.753,\n",
              "  0.749,\n",
              "  0.736),\n",
              " ({'logisticregression__C': 0.22, 'logisticregression__penalty': 'l2'},\n",
              "  0.794,\n",
              "  0.788,\n",
              "  0.763,\n",
              "  0.756),\n",
              " ({'logisticregression__C': 0.46, 'logisticregression__penalty': 'l1'},\n",
              "  0.796,\n",
              "  0.792,\n",
              "  0.769,\n",
              "  0.763),\n",
              " ({'logisticregression__C': 0.46, 'logisticregression__penalty': 'l2'},\n",
              "  0.801,\n",
              "  0.798,\n",
              "  0.772,\n",
              "  0.768),\n",
              " ({'logisticregression__C': 1.0, 'logisticregression__penalty': 'l1'},\n",
              "  0.821,\n",
              "  0.82,\n",
              "  0.792,\n",
              "  0.79),\n",
              " ({'logisticregression__C': 1.0, 'logisticregression__penalty': 'l2'},\n",
              "  0.813,\n",
              "  0.811,\n",
              "  0.789,\n",
              "  0.786),\n",
              " ({'logisticregression__C': 2.15, 'logisticregression__penalty': 'l1'},\n",
              "  0.835,\n",
              "  0.835,\n",
              "  0.8,\n",
              "  0.799),\n",
              " ({'logisticregression__C': 2.15, 'logisticregression__penalty': 'l2'},\n",
              "  0.827,\n",
              "  0.826,\n",
              "  0.789,\n",
              "  0.788),\n",
              " ({'logisticregression__C': 4.64, 'logisticregression__penalty': 'l1'},\n",
              "  0.838,\n",
              "  0.838,\n",
              "  0.794,\n",
              "  0.794),\n",
              " ({'logisticregression__C': 4.64, 'logisticregression__penalty': 'l2'},\n",
              "  0.832,\n",
              "  0.831,\n",
              "  0.792,\n",
              "  0.792),\n",
              " ({'logisticregression__C': 10.0, 'logisticregression__penalty': 'l1'},\n",
              "  0.838,\n",
              "  0.838,\n",
              "  0.8,\n",
              "  0.8),\n",
              " ({'logisticregression__C': 10.0, 'logisticregression__penalty': 'l2'},\n",
              "  0.833,\n",
              "  0.833,\n",
              "  0.792,\n",
              "  0.792),\n",
              " ({'logisticregression__C': 21.54, 'logisticregression__penalty': 'l1'},\n",
              "  0.838,\n",
              "  0.838,\n",
              "  0.798,\n",
              "  0.798),\n",
              " ({'logisticregression__C': 21.54, 'logisticregression__penalty': 'l2'},\n",
              "  0.836,\n",
              "  0.836,\n",
              "  0.794,\n",
              "  0.794),\n",
              " ({'logisticregression__C': 46.42, 'logisticregression__penalty': 'l1'},\n",
              "  0.838,\n",
              "  0.838,\n",
              "  0.798,\n",
              "  0.798),\n",
              " ({'logisticregression__C': 46.42, 'logisticregression__penalty': 'l2'},\n",
              "  0.838,\n",
              "  0.838,\n",
              "  0.796,\n",
              "  0.797),\n",
              " ({'logisticregression__C': 100.0, 'logisticregression__penalty': 'l1'},\n",
              "  0.837,\n",
              "  0.838,\n",
              "  0.798,\n",
              "  0.799),\n",
              " ({'logisticregression__C': 100.0, 'logisticregression__penalty': 'l2'},\n",
              "  0.838,\n",
              "  0.838,\n",
              "  0.796,\n",
              "  0.797)]"
            ]
          },
          "metadata": {},
          "execution_count": 23
        }
      ]
    },
    {
      "cell_type": "code",
      "source": [
        "print(\"Best parameter (CV score=%0.3f):\" % grid_logreg.best_score_)\n",
        "print(grid_logreg.best_params_)"
      ],
      "metadata": {
        "colab": {
          "base_uri": "https://localhost:8080/"
        },
        "id": "pGcpLfKAhLm0",
        "outputId": "00605203-6b3d-4c10-b03a-5cb7d1705c87"
      },
      "execution_count": null,
      "outputs": [
        {
          "output_type": "stream",
          "name": "stdout",
          "text": [
            "Best parameter (CV score=0.800):\n",
            "{'logisticregression__C': 2.15, 'logisticregression__penalty': 'l1'}\n"
          ]
        }
      ]
    },
    {
      "cell_type": "code",
      "source": [
        "logreg_pipe = make_pipeline(StandardScaler(),\n",
        "                            LogisticRegression(multi_class='multinomial', \n",
        "                                               solver='saga', tol=1e-3, \n",
        "                                               max_iter=500, random_state=0, \n",
        "                                               C = grid_logreg.best_params_['logisticregression__C'], \n",
        "                                               penalty = grid_logreg.best_params_['logisticregression__penalty']))"
      ],
      "metadata": {
        "id": "QdEYtOjDjZDr"
      },
      "execution_count": null,
      "outputs": []
    },
    {
      "cell_type": "code",
      "source": [
        "logreg_pipe.fit(X_train, y_train)"
      ],
      "metadata": {
        "colab": {
          "base_uri": "https://localhost:8080/"
        },
        "id": "qYVsADE_FeAX",
        "outputId": "03b31530-8f81-4aa8-d550-5d7375e9d8e3"
      },
      "execution_count": null,
      "outputs": [
        {
          "output_type": "execute_result",
          "data": {
            "text/plain": [
              "Pipeline(steps=[('standardscaler', StandardScaler()),\n",
              "                ('logisticregression',\n",
              "                 LogisticRegression(C=2.15, max_iter=500,\n",
              "                                    multi_class='multinomial', penalty='l1',\n",
              "                                    random_state=0, solver='saga',\n",
              "                                    tol=0.001))])"
            ]
          },
          "metadata": {},
          "execution_count": 26
        }
      ]
    },
    {
      "cell_type": "markdown",
      "source": [
        "Теперь посмотрим на валидацию"
      ],
      "metadata": {
        "id": "xK7Q0otGFYYI"
      }
    },
    {
      "cell_type": "code",
      "source": [
        "from sklearn.metrics import accuracy_score, f1_score"
      ],
      "metadata": {
        "id": "z3fACWOqSXTX"
      },
      "execution_count": null,
      "outputs": []
    },
    {
      "cell_type": "code",
      "source": [
        "def print_scores(predict_train, predict_test, y_train, y_test):\n",
        "  print('accuracy score') \n",
        "  print('train: %f' %accuracy_score(predict_train, y_train))\n",
        "  print('test:  %f' %accuracy_score(predict_test, y_test))\n",
        "  print('\\nf1 score')\n",
        "  print('train: %f' %f1_score(predict_train, y_train, average = 'macro'))\n",
        "  print('test:  %f' %f1_score(predict_test, y_test, average = 'macro'))"
      ],
      "metadata": {
        "id": "3xVzFp7QsT-0"
      },
      "execution_count": null,
      "outputs": []
    },
    {
      "cell_type": "code",
      "source": [
        "print_scores(logreg_pipe.predict(X_train), logreg_pipe.predict(X_test), y_train, y_test)"
      ],
      "metadata": {
        "colab": {
          "base_uri": "https://localhost:8080/"
        },
        "id": "L8sJGJVLC101",
        "outputId": "7daeb8e6-869f-4139-e5cb-a0c0b6c0bc1c"
      },
      "execution_count": null,
      "outputs": [
        {
          "output_type": "stream",
          "name": "stdout",
          "text": [
            "accuracy score\n",
            "train: 0.826958\n",
            "test:  0.781145\n",
            "\n",
            "f1 score\n",
            "train: 0.827089\n",
            "test:  0.781639\n"
          ]
        }
      ]
    },
    {
      "cell_type": "code",
      "execution_count": null,
      "metadata": {
        "id": "Yuh4DJYdutcR",
        "colab": {
          "base_uri": "https://localhost:8080/"
        },
        "outputId": "b08d5d9f-3bae-42a9-ed1c-e90b236340b9"
      },
      "outputs": [
        {
          "output_type": "stream",
          "name": "stdout",
          "text": [
            "Looking in indexes: https://pypi.org/simple, https://us-python.pkg.dev/colab-wheels/public/simple/\n",
            "Collecting scikit-plot\n",
            "  Downloading scikit_plot-0.3.7-py3-none-any.whl (33 kB)\n",
            "Requirement already satisfied: matplotlib>=1.4.0 in /usr/local/lib/python3.7/dist-packages (from scikit-plot) (3.2.2)\n",
            "Requirement already satisfied: scikit-learn>=0.18 in /usr/local/lib/python3.7/dist-packages (from scikit-plot) (1.0.2)\n",
            "Requirement already satisfied: scipy>=0.9 in /usr/local/lib/python3.7/dist-packages (from scikit-plot) (1.7.3)\n",
            "Requirement already satisfied: joblib>=0.10 in /usr/local/lib/python3.7/dist-packages (from scikit-plot) (1.2.0)\n",
            "Requirement already satisfied: python-dateutil>=2.1 in /usr/local/lib/python3.7/dist-packages (from matplotlib>=1.4.0->scikit-plot) (2.8.2)\n",
            "Requirement already satisfied: cycler>=0.10 in /usr/local/lib/python3.7/dist-packages (from matplotlib>=1.4.0->scikit-plot) (0.11.0)\n",
            "Requirement already satisfied: kiwisolver>=1.0.1 in /usr/local/lib/python3.7/dist-packages (from matplotlib>=1.4.0->scikit-plot) (1.4.4)\n",
            "Requirement already satisfied: numpy>=1.11 in /usr/local/lib/python3.7/dist-packages (from matplotlib>=1.4.0->scikit-plot) (1.21.6)\n",
            "Requirement already satisfied: pyparsing!=2.0.4,!=2.1.2,!=2.1.6,>=2.0.1 in /usr/local/lib/python3.7/dist-packages (from matplotlib>=1.4.0->scikit-plot) (3.0.9)\n",
            "Requirement already satisfied: typing-extensions in /usr/local/lib/python3.7/dist-packages (from kiwisolver>=1.0.1->matplotlib>=1.4.0->scikit-plot) (4.1.1)\n",
            "Requirement already satisfied: six>=1.5 in /usr/local/lib/python3.7/dist-packages (from python-dateutil>=2.1->matplotlib>=1.4.0->scikit-plot) (1.15.0)\n",
            "Requirement already satisfied: threadpoolctl>=2.0.0 in /usr/local/lib/python3.7/dist-packages (from scikit-learn>=0.18->scikit-plot) (3.1.0)\n",
            "Installing collected packages: scikit-plot\n",
            "Successfully installed scikit-plot-0.3.7\n"
          ]
        }
      ],
      "source": [
        "# You might use this command to install scikit-plot. \n",
        "# Warning, if you a running locally, don't call pip from within jupyter, call it from terminal in the corresponding \n",
        "# virtual environment instead\n",
        "\n",
        "! pip install scikit-plot"
      ]
    },
    {
      "cell_type": "code",
      "source": [
        "from scikitplot.metrics import plot_roc\n",
        "plot_roc(y_test, logreg_pipe.predict_proba(X_test))"
      ],
      "metadata": {
        "colab": {
          "base_uri": "https://localhost:8080/",
          "height": 312
        },
        "id": "w5q32Sc5NSXb",
        "outputId": "f2c97901-e99c-4c46-943f-233e6b8d95a9"
      },
      "execution_count": null,
      "outputs": [
        {
          "output_type": "execute_result",
          "data": {
            "text/plain": [
              "<matplotlib.axes._subplots.AxesSubplot at 0x7fb7f1031390>"
            ]
          },
          "metadata": {},
          "execution_count": 31
        },
        {
          "output_type": "display_data",
          "data": {
            "text/plain": [
              "<Figure size 432x288 with 1 Axes>"
            ],
            "image/png": "[encoded data removed]"
          },
          "metadata": {
            "needs_background": "light"
          }
        }
      ]
    },
    {
      "cell_type": "markdown",
      "metadata": {
        "id": "HPx_b8A8utcS"
      },
      "source": [
        "#### 2.2. PCA: explained variance plot\n",
        "* Apply the PCA to the train part of the data. Build the explaided variance plot. "
      ]
    },
    {
      "cell_type": "code",
      "execution_count": null,
      "metadata": {
        "nbgrader": {
          "grade": true,
          "grade_id": "cell-c6c614740bce090e",
          "locked": false,
          "points": 10,
          "schema_version": 2,
          "solution": true
        },
        "id": "jVXDzGIIutcS",
        "colab": {
          "base_uri": "https://localhost:8080/",
          "height": 557
        },
        "outputId": "0777d3cc-a430-468b-fbcd-c107a7285672"
      },
      "outputs": [
        {
          "output_type": "display_data",
          "data": {
            "text/plain": [
              "<Figure size 720x288 with 1 Axes>"
            ],
            "image/png": "[encoded data removed]"
          },
          "metadata": {
            "needs_background": "light"
          }
        },
        {
          "output_type": "display_data",
          "data": {
            "text/plain": [
              "<Figure size 720x288 with 1 Axes>"
            ],
            "image/png": "[encoded data removed]"
          },
          "metadata": {
            "needs_background": "light"
          }
        }
      ],
      "source": [
        "from sklearn.decomposition import PCA\n",
        "pca_pipe = make_pipeline(StandardScaler(),\n",
        "                            PCA())\n",
        "pca = pca_pipe.fit(X_train)['pca']\n",
        "plt.figure(figsize = (10, 4))\n",
        "\n",
        "plt.plot(np.cumsum(pca.explained_variance_ratio_), c = \"g\", linewidth = 3)\n",
        "plt.scatter(np.arange(0, 18), np.cumsum(pca.explained_variance_ratio_), c = \"b\", linewidth = 3)\n",
        "plt.xlabel('number of components')\n",
        "plt.ylabel('cumulative explained variance');\n",
        "\n",
        "features = range(pca.n_components_)\n",
        "plt.figure(figsize=(10, 4))\n",
        "plt.bar(features, pca.explained_variance_)\n",
        "plt.xlabel('PCA feature')\n",
        "plt.ylabel('Variance')\n",
        "plt.xticks(features)\n",
        "plt.title(\"Importance of the Principal Components based on inertia\")\n",
        "plt.show()"
      ]
    },
    {
      "cell_type": "markdown",
      "metadata": {
        "nbgrader": {
          "grade": false,
          "grade_id": "cell-0c1fe666f52fe53c",
          "locked": true,
          "schema_version": 2,
          "solution": false
        },
        "id": "8tU3oT6YutcS"
      },
      "source": [
        "#### 2.3. PCA trasformation\n",
        "* Select the appropriate number of components. Briefly explain your choice. Should you normalize the data?\n",
        "\n",
        "*Use `fit` and `transform` methods to transform the `train` and `test` parts.*"
      ]
    },
    {
      "cell_type": "markdown",
      "source": [
        "Вообще, да, данные надо нормировать. Потому что PCA максимизирует дисперсию каждой фичи. Если данные не отнормированы, соответственно, дисперсия у всех разная, то это исходное значение будет сильно влиять на итоговую проекцию. То есть, если взять фичи с разной дисперсией (то есть разброс по осям разный), то при проецировании, конечно, ось у которой будет дисперсия больше, будет иметь большой вклад.\n",
        "\n",
        "Давайте посмотрим, как будет выглядеть PCA на неотнормированных данных и сравним."
      ],
      "metadata": {
        "id": "8xL2NF9BSID_"
      }
    },
    {
      "cell_type": "code",
      "source": [
        "pca_nn = PCA().fit(X_train) #no normalization\n",
        "plt.figure(figsize = (10, 4))\n",
        "plt.plot(np.cumsum(pca_nn.explained_variance_ratio_), c = \"g\", linewidth = 3)\n",
        "plt.scatter(np.arange(0, 18), np.cumsum(pca_nn.explained_variance_ratio_), c = \"b\", linewidth = 3)\n",
        "plt.xlabel('number of components')\n",
        "plt.ylabel('cumulative explained variance');\n",
        "\n",
        "features = range(pca_nn.n_components_)\n",
        "plt.figure(figsize=(10, 4))\n",
        "plt.bar(features, pca_nn.explained_variance_)\n",
        "plt.xlabel('PCA feature')\n",
        "plt.ylabel('Variance')\n",
        "plt.xticks(features)\n",
        "plt.title(\"Importance of the Principal Components based on inertia\")\n",
        "plt.show()"
      ],
      "metadata": {
        "colab": {
          "base_uri": "https://localhost:8080/",
          "height": 557
        },
        "id": "2SXjY2otN5zI",
        "outputId": "c83d1d5c-45bc-4aef-cb69-478ccd177e55"
      },
      "execution_count": null,
      "outputs": [
        {
          "output_type": "display_data",
          "data": {
            "text/plain": [
              "<Figure size 720x288 with 1 Axes>"
            ],
            "image/png": "[encoded data removed]"
          },
          "metadata": {
            "needs_background": "light"
          }
        },
        {
          "output_type": "display_data",
          "data": {
            "text/plain": [
              "<Figure size 720x288 with 1 Axes>"
            ],
            "image/png": "[encoded data removed]"
          },
          "metadata": {
            "needs_background": "light"
          }
        }
      ]
    },
    {
      "cell_type": "markdown",
      "source": [
        "Мы как раз получили, что у нас две компоненты с огромной дисперсией, а остальные не важны."
      ],
      "metadata": {
        "id": "6paifmypVT1L"
      }
    },
    {
      "cell_type": "markdown",
      "source": [
        "Вернемся в нормированным данным.\n"
      ],
      "metadata": {
        "id": "yvkd5dBAU87x"
      }
    },
    {
      "cell_type": "code",
      "source": [
        "list(zip(np.around(np.cumsum(pca.explained_variance_ratio_)*100, decimals = 1), np.linspace(1, len(pca.explained_variance_ratio_)+1, len(pca.explained_variance_ratio_)+1, dtype = int)))"
      ],
      "metadata": {
        "colab": {
          "base_uri": "https://localhost:8080/"
        },
        "id": "13FYOfAhXOgY",
        "outputId": "5bd5e0f4-e7fb-42aa-9ad6-2c2956c67403"
      },
      "execution_count": null,
      "outputs": [
        {
          "output_type": "execute_result",
          "data": {
            "text/plain": [
              "[(51.6, 1),\n",
              " (68.1, 2),\n",
              " (79.7, 3),\n",
              " (86.3, 4),\n",
              " (91.4, 5),\n",
              " (94.3, 6),\n",
              " (96.2, 7),\n",
              " (97.5, 8),\n",
              " (98.4, 9),\n",
              " (98.9, 10),\n",
              " (99.3, 11),\n",
              " (99.5, 12),\n",
              " (99.7, 13),\n",
              " (99.8, 14),\n",
              " (99.9, 15),\n",
              " (100.0, 16),\n",
              " (100.0, 17),\n",
              " (100.0, 18)]"
            ]
          },
          "metadata": {},
          "execution_count": 36
        }
      ]
    },
    {
      "cell_type": "markdown",
      "source": [
        "Соответственно, более 11 компонент нет смысла брать, поскольку их вклад оставшихся компонент в исходные данные менее 1%"
      ],
      "metadata": {
        "id": "hEwQQRAkSTkr"
      }
    },
    {
      "cell_type": "code",
      "execution_count": null,
      "metadata": {
        "nbgrader": {
          "grade": true,
          "grade_id": "cell-96ab18d96473ef71",
          "locked": false,
          "points": 5,
          "schema_version": 2,
          "solution": true
        },
        "id": "RSKJhLjsutcT"
      },
      "outputs": [],
      "source": [
        "pca_pipe_log = make_pipeline(StandardScaler(),\n",
        "                            PCA(n_components=11))\n",
        "X_train_pca = pd.DataFrame(data = pca_pipe_log.fit_transform(X_train))\n",
        "\n",
        "X_test_pca = pd.DataFrame(data = pca_pipe_log.transform(X_test))"
      ]
    },
    {
      "cell_type": "code",
      "source": [
        "X_train_pca.hist(bins=50, figsize=(15,8))\n",
        "plt.show()"
      ],
      "metadata": {
        "colab": {
          "base_uri": "https://localhost:8080/",
          "height": 499
        },
        "id": "bSf2BMqnWuO5",
        "outputId": "55fb4980-9171-4f28-f8de-5203b04d9d98"
      },
      "execution_count": null,
      "outputs": [
        {
          "output_type": "display_data",
          "data": {
            "text/plain": [
              "<Figure size 1080x576 with 12 Axes>"
            ],
            "image/png": "[encoded data removed]"
          },
          "metadata": {
            "needs_background": "light"
          }
        }
      ]
    },
    {
      "cell_type": "markdown",
      "source": [
        "11 фичей с красивым распределением (почти), круто!"
      ],
      "metadata": {
        "id": "yyFy7Wd1W6IF"
      }
    },
    {
      "cell_type": "markdown",
      "metadata": {
        "id": "a5z2hRtoutcT"
      },
      "source": [
        "**Note: From this point `sklearn` [Pipeline](https://scikit-learn.org/stable/modules/compose.html) might be useful to perform transformations on the data. Refer to the [docs](https://scikit-learn.org/stable/modules/generated/sklearn.pipeline.Pipeline.html) for more information.**"
      ]
    },
    {
      "cell_type": "markdown",
      "metadata": {
        "nbgrader": {
          "grade": false,
          "grade_id": "cell-d28b58a35c94e988",
          "locked": true,
          "schema_version": 2,
          "solution": false
        },
        "id": "CDbZFB-putcT"
      },
      "source": [
        "#### 2.4. Logistic regression on PCA-preprocessed data.\n",
        "* Find optimal hyperparameters for logistic regression with cross-validation on the transformed by PCA `train` data.\n",
        "\n",
        "* Estimate the model quality with `f1` and `accuracy` scores.\n",
        "* Plot a ROC-curve for the trained model. For the multiclass case you might use `scikitplot` library (e.g. `scikitplot.metrics.plot_roc(test_labels, predicted_proba)`).\n",
        "\n",
        "*Note: please, use the following hyperparameters for logistic regression: `multi_class='multinomial'`, `solver='saga'` and `tol=1e-3`*"
      ]
    },
    {
      "cell_type": "code",
      "source": [
        "#Чтобы иметь перед глазами\n",
        "print(parameters)"
      ],
      "metadata": {
        "colab": {
          "base_uri": "https://localhost:8080/"
        },
        "id": "obhg4ar1oZWq",
        "outputId": "fc4be502-dede-41dc-f572-e99d298655fe"
      },
      "execution_count": null,
      "outputs": [
        {
          "output_type": "stream",
          "name": "stdout",
          "text": [
            "{'logisticregression__penalty': ['l1', 'l2'], 'logisticregression__C': array([  0.1 ,   0.22,   0.46,   1.  ,   2.15,   4.64,  10.  ,  21.54,\n",
            "        46.42, 100.  ])}\n"
          ]
        }
      ]
    },
    {
      "cell_type": "code",
      "source": [
        "grid_logreg_pca, res_logreg_pca = grid_cv(make_pipeline(StandardScaler(), logreg), parameters, X_train_pca, y_train)"
      ],
      "metadata": {
        "id": "cpvswpvesMcq",
        "colab": {
          "base_uri": "https://localhost:8080/"
        },
        "outputId": "907df446-2f44-4f5f-fd5a-e1a57790a26f"
      },
      "execution_count": null,
      "outputs": [
        {
          "output_type": "stream",
          "name": "stderr",
          "text": [
            "/usr/local/lib/python3.7/dist-packages/sklearn/linear_model/_sag.py:354: ConvergenceWarning: The max_iter was reached which means the coef_ did not converge\n",
            "  ConvergenceWarning,\n"
          ]
        }
      ]
    },
    {
      "cell_type": "code",
      "source": [
        "print(\"Best parameter (CV score=%0.3f):\" % grid_logreg_pca.best_score_)\n",
        "print(grid_logreg_pca.best_params_)"
      ],
      "metadata": {
        "colab": {
          "base_uri": "https://localhost:8080/"
        },
        "id": "w8G97Fuytz8k",
        "outputId": "875ae642-bb3c-4ef7-f0a2-2daa2be3317d"
      },
      "execution_count": null,
      "outputs": [
        {
          "output_type": "stream",
          "name": "stdout",
          "text": [
            "Best parameter (CV score=0.774):\n",
            "{'logisticregression__C': 0.1, 'logisticregression__penalty': 'l2'}\n"
          ]
        }
      ]
    },
    {
      "cell_type": "code",
      "source": [
        "print('mean_train_accuracy, mean_train_f1_macro, mean_test_accuracy, mean_test_f1_macro')\n",
        "res_logreg_pca"
      ],
      "metadata": {
        "colab": {
          "base_uri": "https://localhost:8080/"
        },
        "id": "aPp5LIYLyaqk",
        "outputId": "1da8706c-23d7-4b4e-aaf5-63b90b85523e"
      },
      "execution_count": null,
      "outputs": [
        {
          "output_type": "stream",
          "name": "stdout",
          "text": [
            "mean_train_accuracy, mean_train_f1_macro, mean_test_accuracy, mean_test_f1_macro\n"
          ]
        },
        {
          "output_type": "execute_result",
          "data": {
            "text/plain": [
              "[({'logisticregression__C': 0.1, 'logisticregression__penalty': 'l1'},\n",
              "  0.745,\n",
              "  0.739,\n",
              "  0.736,\n",
              "  0.727),\n",
              " ({'logisticregression__C': 0.1, 'logisticregression__penalty': 'l2'},\n",
              "  0.787,\n",
              "  0.783,\n",
              "  0.774,\n",
              "  0.77),\n",
              " ({'logisticregression__C': 0.22, 'logisticregression__penalty': 'l1'},\n",
              "  0.774,\n",
              "  0.77,\n",
              "  0.749,\n",
              "  0.743),\n",
              " ({'logisticregression__C': 0.22, 'logisticregression__penalty': 'l2'},\n",
              "  0.791,\n",
              "  0.788,\n",
              "  0.772,\n",
              "  0.768),\n",
              " ({'logisticregression__C': 0.46, 'logisticregression__penalty': 'l1'},\n",
              "  0.789,\n",
              "  0.786,\n",
              "  0.763,\n",
              "  0.759),\n",
              " ({'logisticregression__C': 0.46, 'logisticregression__penalty': 'l2'},\n",
              "  0.789,\n",
              "  0.786,\n",
              "  0.77,\n",
              "  0.767),\n",
              " ({'logisticregression__C': 1.0, 'logisticregression__penalty': 'l1'},\n",
              "  0.788,\n",
              "  0.786,\n",
              "  0.763,\n",
              "  0.761),\n",
              " ({'logisticregression__C': 1.0, 'logisticregression__penalty': 'l2'},\n",
              "  0.788,\n",
              "  0.786,\n",
              "  0.767,\n",
              "  0.764),\n",
              " ({'logisticregression__C': 2.15, 'logisticregression__penalty': 'l1'},\n",
              "  0.788,\n",
              "  0.787,\n",
              "  0.765,\n",
              "  0.764),\n",
              " ({'logisticregression__C': 2.15, 'logisticregression__penalty': 'l2'},\n",
              "  0.788,\n",
              "  0.787,\n",
              "  0.772,\n",
              "  0.771),\n",
              " ({'logisticregression__C': 4.64, 'logisticregression__penalty': 'l1'},\n",
              "  0.786,\n",
              "  0.786,\n",
              "  0.765,\n",
              "  0.764),\n",
              " ({'logisticregression__C': 4.64, 'logisticregression__penalty': 'l2'},\n",
              "  0.789,\n",
              "  0.788,\n",
              "  0.767,\n",
              "  0.766),\n",
              " ({'logisticregression__C': 10.0, 'logisticregression__penalty': 'l1'},\n",
              "  0.785,\n",
              "  0.785,\n",
              "  0.769,\n",
              "  0.768),\n",
              " ({'logisticregression__C': 10.0, 'logisticregression__penalty': 'l2'},\n",
              "  0.786,\n",
              "  0.785,\n",
              "  0.767,\n",
              "  0.766),\n",
              " ({'logisticregression__C': 21.54, 'logisticregression__penalty': 'l1'},\n",
              "  0.784,\n",
              "  0.784,\n",
              "  0.767,\n",
              "  0.766),\n",
              " ({'logisticregression__C': 21.54, 'logisticregression__penalty': 'l2'},\n",
              "  0.785,\n",
              "  0.785,\n",
              "  0.769,\n",
              "  0.768),\n",
              " ({'logisticregression__C': 46.42, 'logisticregression__penalty': 'l1'},\n",
              "  0.784,\n",
              "  0.784,\n",
              "  0.765,\n",
              "  0.765),\n",
              " ({'logisticregression__C': 46.42, 'logisticregression__penalty': 'l2'},\n",
              "  0.785,\n",
              "  0.785,\n",
              "  0.767,\n",
              "  0.766),\n",
              " ({'logisticregression__C': 100.0, 'logisticregression__penalty': 'l1'},\n",
              "  0.784,\n",
              "  0.784,\n",
              "  0.763,\n",
              "  0.763),\n",
              " ({'logisticregression__C': 100.0, 'logisticregression__penalty': 'l2'},\n",
              "  0.784,\n",
              "  0.784,\n",
              "  0.765,\n",
              "  0.765)]"
            ]
          },
          "metadata": {},
          "execution_count": 42
        }
      ]
    },
    {
      "cell_type": "code",
      "source": [
        "logreg_pipe_pca = make_pipeline(StandardScaler(),\n",
        "                            LogisticRegression(multi_class='multinomial', \n",
        "                                               solver='saga', tol=1e-3, \n",
        "                                               max_iter=500, random_state=0, \n",
        "                                               C = grid_logreg_pca.best_params_['logisticregression__C'], \n",
        "                                               penalty = grid_logreg_pca.best_params_['logisticregression__penalty']))\n",
        "logreg_pipe_pca.fit(X_train_pca, y_train)"
      ],
      "metadata": {
        "colab": {
          "base_uri": "https://localhost:8080/"
        },
        "id": "jRGA-URHtzJJ",
        "outputId": "bd655878-c99e-42f3-8274-38bb59d6dc67"
      },
      "execution_count": null,
      "outputs": [
        {
          "output_type": "execute_result",
          "data": {
            "text/plain": [
              "Pipeline(steps=[('standardscaler', StandardScaler()),\n",
              "                ('logisticregression',\n",
              "                 LogisticRegression(C=0.1, max_iter=500,\n",
              "                                    multi_class='multinomial', random_state=0,\n",
              "                                    solver='saga', tol=0.001))])"
            ]
          },
          "metadata": {},
          "execution_count": 43
        }
      ]
    },
    {
      "cell_type": "code",
      "source": [
        "print_scores(logreg_pipe_pca.predict(X_train_pca), logreg_pipe_pca.predict(X_test_pca), y_train, y_test)"
      ],
      "metadata": {
        "colab": {
          "base_uri": "https://localhost:8080/"
        },
        "id": "eLn_OkEMtjLB",
        "outputId": "0f0ddc4c-e79c-4dca-f92b-9e7086a0ad36"
      },
      "execution_count": null,
      "outputs": [
        {
          "output_type": "stream",
          "name": "stdout",
          "text": [
            "accuracy score\n",
            "train: 0.790528\n",
            "test:  0.696970\n",
            "\n",
            "f1 score\n",
            "train: 0.787010\n",
            "test:  0.693572\n"
          ]
        }
      ]
    },
    {
      "cell_type": "code",
      "source": [
        "plot_roc(y_test, logreg_pipe_pca.predict_proba(X_test_pca))"
      ],
      "metadata": {
        "colab": {
          "base_uri": "https://localhost:8080/",
          "height": 312
        },
        "id": "f2rrvXIlueDF",
        "outputId": "b37be7e7-2534-41da-b481-2533d6eaa386"
      },
      "execution_count": null,
      "outputs": [
        {
          "output_type": "execute_result",
          "data": {
            "text/plain": [
              "<matplotlib.axes._subplots.AxesSubplot at 0x7fb7c1a08090>"
            ]
          },
          "metadata": {},
          "execution_count": 45
        },
        {
          "output_type": "display_data",
          "data": {
            "text/plain": [
              "<Figure size 432x288 with 1 Axes>"
            ],
            "image/png": "[encoded data removed]"
          },
          "metadata": {
            "needs_background": "light"
          }
        }
      ]
    },
    {
      "cell_type": "markdown",
      "metadata": {
        "nbgrader": {
          "grade": false,
          "grade_id": "cell-4fbf16c64076e139",
          "locked": true,
          "schema_version": 2,
          "solution": false
        },
        "id": "pv4_MCOAutcU"
      },
      "source": [
        "#### 2.5. Decision tree\n",
        "* Now train a desicion tree on the same data. Find optimal tree depth (`max_depth`) using cross-validation.\n",
        "\n",
        "* Measure the model quality using the same metrics you used above."
      ]
    },
    {
      "cell_type": "code",
      "execution_count": null,
      "metadata": {
        "nbgrader": {
          "grade": true,
          "grade_id": "cell-748ed20b51c67fab",
          "locked": false,
          "points": 15,
          "schema_version": 2,
          "solution": true
        },
        "id": "bbJdzJUYutcU"
      },
      "outputs": [],
      "source": [
        "from sklearn.tree import DecisionTreeClassifier\n",
        "\n",
        "decision_tree = DecisionTreeClassifier(random_state = 0)\n",
        "tree_parameters = {\n",
        "    'max_depth': np.linspace(1,10,10, dtype = int)\n",
        "    }"
      ]
    },
    {
      "cell_type": "code",
      "source": [
        "grid_dtree, res_dtree = grid_cv(decision_tree, tree_parameters, X_train, y_train)"
      ],
      "metadata": {
        "id": "mnGj1tpIvXJs"
      },
      "execution_count": null,
      "outputs": []
    },
    {
      "cell_type": "code",
      "source": [
        "print(\"Best parameter (CV score=%0.3f):\" % grid_dtree.best_score_)\n",
        "print(grid_dtree.best_params_)\n",
        "print('mean_train_accuracy, mean_train_f1_macro, mean_test_accuracy, mean_test_f1_macro')\n",
        "res_dtree"
      ],
      "metadata": {
        "colab": {
          "base_uri": "https://localhost:8080/"
        },
        "id": "O6OJTz8IyUwG",
        "outputId": "cfbb0305-23fc-4be8-8f90-041248b62807"
      },
      "execution_count": null,
      "outputs": [
        {
          "output_type": "stream",
          "name": "stdout",
          "text": [
            "Best parameter (CV score=0.709):\n",
            "{'max_depth': 9}\n",
            "mean_train_accuracy, mean_train_f1_macro, mean_test_accuracy, mean_test_f1_macro\n"
          ]
        },
        {
          "output_type": "execute_result",
          "data": {
            "text/plain": [
              "[({'max_depth': 1}, 0.422, 0.279, 0.413, 0.274),\n",
              " ({'max_depth': 2}, 0.554, 0.476, 0.545, 0.467),\n",
              " ({'max_depth': 3}, 0.695, 0.653, 0.658, 0.612),\n",
              " ({'max_depth': 4}, 0.749, 0.723, 0.67, 0.642),\n",
              " ({'max_depth': 5}, 0.801, 0.799, 0.665, 0.662),\n",
              " ({'max_depth': 6}, 0.85, 0.849, 0.681, 0.678),\n",
              " ({'max_depth': 7}, 0.9, 0.901, 0.687, 0.684),\n",
              " ({'max_depth': 8}, 0.933, 0.933, 0.678, 0.678),\n",
              " ({'max_depth': 9}, 0.956, 0.956, 0.709, 0.711),\n",
              " ({'max_depth': 10}, 0.975, 0.975, 0.688, 0.688)]"
            ]
          },
          "metadata": {},
          "execution_count": 48
        }
      ]
    },
    {
      "cell_type": "code",
      "source": [
        "decision_tree = DecisionTreeClassifier(random_state = 0, **grid_dtree.best_params_)\n",
        "decision_tree.fit(X_train, y_train)"
      ],
      "metadata": {
        "colab": {
          "base_uri": "https://localhost:8080/"
        },
        "id": "GZqb8jeSzKho",
        "outputId": "4ea9013a-03e0-46c1-d32c-ffd056fff742"
      },
      "execution_count": null,
      "outputs": [
        {
          "output_type": "execute_result",
          "data": {
            "text/plain": [
              "DecisionTreeClassifier(max_depth=9, random_state=0)"
            ]
          },
          "metadata": {},
          "execution_count": 49
        }
      ]
    },
    {
      "cell_type": "code",
      "source": [
        "print_scores(decision_tree.predict(X_train), decision_tree.predict(X_test), y_train, y_test)"
      ],
      "metadata": {
        "colab": {
          "base_uri": "https://localhost:8080/"
        },
        "id": "Aj6f_BYCzs8X",
        "outputId": "c74fe98b-493d-47d9-f040-18cd8f825c81"
      },
      "execution_count": null,
      "outputs": [
        {
          "output_type": "stream",
          "name": "stdout",
          "text": [
            "accuracy score\n",
            "train: 0.945355\n",
            "test:  0.686869\n",
            "\n",
            "f1 score\n",
            "train: 0.945892\n",
            "test:  0.692741\n"
          ]
        }
      ]
    },
    {
      "cell_type": "code",
      "source": [
        "plot_roc(y_test, decision_tree.predict_proba(X_test))"
      ],
      "metadata": {
        "colab": {
          "base_uri": "https://localhost:8080/",
          "height": 312
        },
        "id": "vFcxj6bBz0pB",
        "outputId": "f1c739e5-bfad-4ea4-aaab-fd678cea3bbe"
      },
      "execution_count": null,
      "outputs": [
        {
          "output_type": "execute_result",
          "data": {
            "text/plain": [
              "<matplotlib.axes._subplots.AxesSubplot at 0x7fb7c20ced50>"
            ]
          },
          "metadata": {},
          "execution_count": 51
        },
        {
          "output_type": "display_data",
          "data": {
            "text/plain": [
              "<Figure size 432x288 with 1 Axes>"
            ],
            "image/png": "[encoded data removed]"
          },
          "metadata": {
            "needs_background": "light"
          }
        }
      ]
    },
    {
      "cell_type": "markdown",
      "metadata": {
        "nbgrader": {
          "grade": false,
          "grade_id": "cell-9eadd4d8a03ae67a",
          "locked": true,
          "schema_version": 2,
          "solution": false
        },
        "id": "wRvwCZMFutcV"
      },
      "source": [
        "#### 2.6. Bagging.\n",
        "Here starts the ensembling part.\n",
        "\n",
        "First we will use the __Bagging__ approach. Build an ensemble of $N$ algorithms varying N from $N_{min}=2$ to $N_{max}=100$ (with step 5).\n",
        "\n",
        "We will build two ensembles: of logistic regressions and of decision trees.\n",
        "\n",
        "*Comment: each ensemble should be constructed from models of the same family, so logistic regressions should not be mixed up with decision trees.*\n",
        "\n",
        "\n",
        "*Hint 1: To build a __Bagging__ ensebmle varying the ensemble size efficiently you might generate $N_{max}$ subsets of `train` data (of the same size as the original dataset) using bootstrap procedure once. Then you train a new instance of logistic regression/decision tree with optimal hyperparameters you estimated before on each subset (so you train it from scratch). Finally, to get an ensemble of $N$ models you average the $N$ out of $N_{max}$ models predictions.*\n",
        "\n",
        "*Hint 2: sklearn might help you with this taks. Some appropriate function/class might be out there.*\n",
        "\n",
        "* Plot `f1` and `accuracy` scores plots w.r.t. the size of the ensemble.\n",
        "\n",
        "* Briefly analyse the plot. What is the optimal number of algorithms? Explain your answer.\n",
        "\n",
        "* How do you think, are the hyperparameters for the decision trees you found in 2.5 optimal for trees used in ensemble? "
      ]
    },
    {
      "cell_type": "code",
      "execution_count": null,
      "metadata": {
        "nbgrader": {
          "grade": true,
          "grade_id": "cell-8fc95a2b206bdae1",
          "locked": false,
          "points": 35,
          "schema_version": 2,
          "solution": true
        },
        "id": "Vr-K3_0-utcV"
      },
      "outputs": [],
      "source": [
        "from sklearn.ensemble import BaggingClassifier\n",
        "\n",
        "def fit_score(model, X_train, y_train, X_test): \n",
        "  model.fit(X_train, y_train)\n",
        "\n",
        "  predict_test = model.predict(X_test)\n",
        "  predict_train = model.predict(X_train)\n",
        "\n",
        "  return accuracy_score(y_train, predict_train), accuracy_score(y_test, predict_test), f1_score(y_train, predict_train, average='macro'),  f1_score(y_test, predict_test, average='macro')\n"
      ]
    },
    {
      "cell_type": "code",
      "source": [
        "result_trees = []\n",
        "for i in range(2,100,5):\n",
        "  clf = BaggingClassifier(base_estimator = DecisionTreeClassifier(random_state = 0, **grid_dtree.best_params_), \n",
        "                          n_estimators = i, bootstrap = True, random_state=0)\n",
        "  res = fit_score(clf, X_train, y_train, X_test)\n",
        "  result_trees.append(res)\n",
        "  print(i, res)\n",
        "result_trees=np.array(result_trees)"
      ],
      "metadata": {
        "colab": {
          "base_uri": "https://localhost:8080/"
        },
        "id": "MV5JoLsfWlQm",
        "outputId": "ddc0e505-9990-443b-b8a7-61e8c187a58d"
      },
      "execution_count": null,
      "outputs": [
        {
          "output_type": "stream",
          "name": "stdout",
          "text": [
            "2 (0.8834244080145719, 0.632996632996633, 0.8834184907038249, 0.639727843796158)\n",
            "7 (0.970856102003643, 0.7104377104377104, 0.9708329207581893, 0.7126113416248255)\n",
            "12 (0.9890710382513661, 0.7272727272727273, 0.9891925274046627, 0.7281782354436817)\n",
            "17 (0.9927140255009107, 0.7373737373737373, 0.9928042763157895, 0.7373792856525551)\n",
            "22 (0.9963570127504554, 0.7373737373737373, 0.9964021381578947, 0.7373015265376548)\n",
            "27 (0.9963570127504554, 0.7205387205387206, 0.9964063863648032, 0.7206524082916302)\n",
            "32 (0.9963570127504554, 0.7239057239057239, 0.9964063863648032, 0.724719082670404)\n",
            "37 (0.9981785063752276, 0.7373737373737373, 0.9982021548458349, 0.7375159096801566)\n",
            "42 (0.9981785063752276, 0.7441077441077442, 0.9982021548458349, 0.7430102429673812)\n",
            "47 (0.9981785063752276, 0.7407407407407407, 0.9982021548458349, 0.739467017296937)\n",
            "52 (0.9963570127504554, 0.7272727272727273, 0.9964021381578947, 0.725265772975857)\n",
            "57 (0.9981785063752276, 0.7306397306397306, 0.9982021548458349, 0.7300051867700316)\n",
            "62 (0.9963570127504554, 0.7407407407407407, 0.9964021381578947, 0.7397252299855633)\n",
            "67 (0.9963570127504554, 0.734006734006734, 0.9964021381578947, 0.7335834852282221)\n",
            "72 (0.9981785063752276, 0.7306397306397306, 0.9982021548458349, 0.7293034141556309)\n",
            "77 (0.9963570127504554, 0.7407407407407407, 0.9964021381578947, 0.7395882124016401)\n",
            "82 (0.9981785063752276, 0.7373737373737373, 0.9982021548458349, 0.7369474522077857)\n",
            "87 (0.9981785063752276, 0.7373737373737373, 0.9982021548458349, 0.7369474522077857)\n",
            "92 (0.9981785063752276, 0.7474747474747475, 0.9982021548458349, 0.7463716929020081)\n",
            "97 (0.9963570127504554, 0.7441077441077442, 0.9964021381578947, 0.7435211685051913)\n"
          ]
        }
      ]
    },
    {
      "cell_type": "code",
      "execution_count": null,
      "metadata": {
        "id": "Bp4mr5IjutcV",
        "colab": {
          "base_uri": "https://localhost:8080/"
        },
        "outputId": "d3039feb-2819-4171-b05b-325a76cef033"
      },
      "outputs": [
        {
          "output_type": "stream",
          "name": "stdout",
          "text": [
            "2 (0.8360655737704918, 0.7575757575757576, 0.8332324807973612, 0.7568249546418561)\n",
            "7 (0.8214936247723132, 0.7845117845117845, 0.821739570652614, 0.7832954028265453)\n",
            "12 (0.8306010928961749, 0.7912457912457912, 0.8311173121186295, 0.7899864998289786)\n",
            "17 (0.8324225865209471, 0.7845117845117845, 0.8330595654448567, 0.7833878100729005)\n",
            "22 (0.825136612021858, 0.7744107744107744, 0.825784934159152, 0.7737769232054402)\n",
            "27 (0.825136612021858, 0.7744107744107744, 0.8257782771850521, 0.7742187504956262)\n",
            "32 (0.8214936247723132, 0.7710437710437711, 0.8216811728651124, 0.7709487899661375)\n",
            "37 (0.8233151183970856, 0.7744107744107744, 0.8233743920365323, 0.7737648201554114)\n",
            "42 (0.8233151183970856, 0.7710437710437711, 0.8231931623402402, 0.7704695288995638)\n",
            "47 (0.825136612021858, 0.7744107744107744, 0.8248666507024127, 0.7732622082822667)\n",
            "52 (0.8287795992714025, 0.7777777777777778, 0.8285196066955024, 0.776571900845619)\n",
            "57 (0.8287795992714025, 0.7777777777777778, 0.828351888235101, 0.776571900845619)\n",
            "62 (0.8269581056466302, 0.7777777777777778, 0.8261546081632566, 0.776571900845619)\n",
            "67 (0.8287795992714025, 0.7777777777777778, 0.828114238444224, 0.776571900845619)\n",
            "72 (0.8342440801457195, 0.7811447811447811, 0.8332402291672952, 0.7800456887826346)\n",
            "77 (0.8342440801457195, 0.7811447811447811, 0.8333338827259148, 0.7800456887826346)\n",
            "82 (0.8306010928961749, 0.7811447811447811, 0.8299093314587117, 0.7800456887826346)\n",
            "87 (0.8287795992714025, 0.7811447811447811, 0.8281954244897871, 0.7800456887826346)\n",
            "92 (0.8287795992714025, 0.7777777777777778, 0.8281954244897871, 0.7772290630397785)\n",
            "97 (0.8287795992714025, 0.7744107744107744, 0.8281954244897871, 0.7737648201554114)\n"
          ]
        }
      ],
      "source": [
        "result_logreg = []\n",
        "scaler = StandardScaler()\n",
        "X_train_ss = scaler.fit_transform(X_train)\n",
        "X_test_ss = scaler.transform(X_test)\n",
        "for i in range(2,100,5):\n",
        "  clf = BaggingClassifier(base_estimator = LogisticRegression(multi_class='multinomial', \n",
        "                            solver='saga', tol=1e-3, max_iter=500, random_state=0, \n",
        "                            C = grid_logreg.best_params_['logisticregression__C'], \n",
        "                            penalty = grid_logreg.best_params_['logisticregression__penalty']), \n",
        "                          n_estimators = i, bootstrap = True, random_state=0)\n",
        "  res = fit_score(clf, X_train_ss, y_train, X_test_ss)\n",
        "  result_logreg.append(res)\n",
        "  print(i, res)\n",
        "result_logreg = np.array(result_logreg)"
      ]
    },
    {
      "cell_type": "code",
      "source": [
        "#ac_train ac_test f1_train f1_test\n",
        "\n",
        "def plot_graphs(X_result, y_result=None, plot_train=True, plot_title = None):\n",
        "  f, (ax1, ax2) = plt.subplots(1, 2, figsize=(15,5), sharey=True)\n",
        "\n",
        "  if plot_title is not None: \n",
        "    f.suptitle(plot_title)\n",
        "\n",
        "  if y_result is None: \n",
        "    y_result = np.arange(0,len(X_result))\n",
        "  \n",
        "  if plot_train is True:\n",
        "    ax1.plot(y_result, X_result[:,0], linestyle='dashed', label = 'train')\n",
        "    ax2.plot(y_result, X_result[:,2], linestyle='dashed', label = 'train')\n",
        "\n",
        "  ax1.plot(y_result, X_result[:,1], label = 'test')\n",
        "  ax1.set_title('Accuracy')\n",
        "\n",
        "  ax2.plot(y_result, X_result[:,3], label = 'test')\n",
        "  ax2.set_title('F1 score')\n",
        "  ax1.legend()\n",
        "  ax2.legend()\n"
      ],
      "metadata": {
        "id": "N9UA_7kXO9wy"
      },
      "execution_count": null,
      "outputs": []
    },
    {
      "cell_type": "code",
      "source": [
        "plot_graphs(result_logreg, np.arange(2,100,5))"
      ],
      "metadata": {
        "colab": {
          "base_uri": "https://localhost:8080/",
          "height": 336
        },
        "id": "aI_mqklKRMrW",
        "outputId": "3acbfd88-0111-4383-f213-61eabd88438a"
      },
      "execution_count": null,
      "outputs": [
        {
          "output_type": "display_data",
          "data": {
            "text/plain": [
              "<Figure size 1080x360 with 2 Axes>"
            ],
            "image/png": "[encoded data removed]"
          },
          "metadata": {
            "needs_background": "light"
          }
        }
      ]
    },
    {
      "cell_type": "markdown",
      "source": [
        "Можно видеть, что линейная комбинация линейных алгоритмов не сильно помогает."
      ],
      "metadata": {
        "id": "Qnih0SG1TW79"
      }
    },
    {
      "cell_type": "code",
      "source": [
        "plot_graphs(result_trees,np.arange(2,100,5))"
      ],
      "metadata": {
        "colab": {
          "base_uri": "https://localhost:8080/",
          "height": 336
        },
        "id": "Y3obqz7kSDOz",
        "outputId": "dd8a7cea-a7cb-4b61-ebd2-ee7fdfe5b30d"
      },
      "execution_count": null,
      "outputs": [
        {
          "output_type": "display_data",
          "data": {
            "text/plain": [
              "<Figure size 1080x360 with 2 Axes>"
            ],
            "image/png": "[encoded data removed]"
          },
          "metadata": {
            "needs_background": "light"
          }
        }
      ]
    },
    {
      "cell_type": "markdown",
      "source": [
        "Тут уже можно видеть некоторую тенденцию к улучшению результата с увеличением количества алгоритмов. \n",
        "\n",
        "При обучении деревьев мы используем достаточно большие деревья, которые сами могут вполне неплохо описывать наш датасет и похожи. Поэтому, увеличение числа не дает сильного прироста качества после 12 деревьев. Чтобы от этого избавиться, надо брать деревья попроще (сделать прунинг), чтобы они больше отличались друг от друга."
      ],
      "metadata": {
        "id": "SR9FODDgSLh-"
      }
    },
    {
      "cell_type": "markdown",
      "metadata": {
        "nbgrader": {
          "grade": false,
          "grade_id": "cell-241b7691ab44cbfb",
          "locked": true,
          "schema_version": 2,
          "solution": false
        },
        "id": "ew1DFmDlutcW"
      },
      "source": [
        "#### 2.7. Random Forest\n",
        "Now we will work with the Random Forest (its `sklearn` implementation).\n",
        "\n",
        "* * Plot `f1` and `accuracy` scores plots w.r.t. the number of trees in Random Forest.\n",
        "\n",
        "* What is the optimal number of trees you've got? Is it different from the optimal number of logistic regressions/decision trees in 2.6? Explain the results briefly."
      ]
    },
    {
      "cell_type": "code",
      "execution_count": null,
      "metadata": {
        "nbgrader": {
          "grade": true,
          "grade_id": "cell-888755d0f3d91620",
          "locked": false,
          "points": 15,
          "schema_version": 2,
          "solution": true
        },
        "id": "Obyl2qCLutcW",
        "colab": {
          "base_uri": "https://localhost:8080/"
        },
        "outputId": "5136be16-7aa1-4723-9476-ee0f6b990340"
      },
      "outputs": [
        {
          "output_type": "stream",
          "name": "stdout",
          "text": [
            "2 (0.8542805100182149, 0.6026936026936027, 0.849680931458425, 0.6015465096112336)\n",
            "7 (0.9799635701275046, 0.7205387205387206, 0.9800788068240156, 0.7238041951023686)\n",
            "12 (0.9963570127504554, 0.7104377104377104, 0.9964021381578947, 0.7151760271149425)\n",
            "17 (1.0, 0.7138047138047138, 1.0, 0.7154051514354197)\n",
            "22 (1.0, 0.7575757575757576, 1.0, 0.7572446510364582)\n",
            "27 (1.0, 0.7542087542087542, 1.0, 0.7544936113113834)\n",
            "32 (1.0, 0.7542087542087542, 1.0, 0.753958233020976)\n",
            "37 (1.0, 0.7542087542087542, 1.0, 0.7533016471252238)\n",
            "42 (1.0, 0.7643097643097643, 1.0, 0.763474986142329)\n",
            "47 (1.0, 0.7609427609427609, 1.0, 0.7600945051329252)\n",
            "52 (1.0, 0.7575757575757576, 1.0, 0.7561407364814745)\n",
            "57 (1.0, 0.7575757575757576, 1.0, 0.7574649859943976)\n",
            "62 (1.0, 0.7609427609427609, 1.0, 0.760148440418523)\n",
            "67 (1.0, 0.7676767676767676, 1.0, 0.7668357744254739)\n",
            "72 (1.0, 0.7643097643097643, 1.0, 0.7635245161473283)\n",
            "77 (1.0, 0.7609427609427609, 1.0, 0.7607304900181489)\n",
            "82 (1.0, 0.7542087542087542, 1.0, 0.753184277140976)\n",
            "87 (1.0, 0.7542087542087542, 1.0, 0.753184277140976)\n",
            "92 (1.0, 0.7542087542087542, 1.0, 0.7539629603042508)\n",
            "97 (1.0, 0.7508417508417509, 1.0, 0.7498723263638549)\n"
          ]
        }
      ],
      "source": [
        "from sklearn.ensemble import RandomForestClassifier\n",
        "\n",
        "result_forest = []\n",
        "\n",
        "for i in range(2,100,5):\n",
        "  forest = RandomForestClassifier(n_estimators=i, random_state=0)\n",
        "  res = fit_score(forest, X_train, y_train, X_test)\n",
        "  result_forest.append(res)\n",
        "  print(i, res)\n",
        "\n",
        "result_forest = np.array(result_forest)"
      ]
    },
    {
      "cell_type": "code",
      "source": [
        "plot_graphs(result_forest, np.arange(2,100,5))"
      ],
      "metadata": {
        "colab": {
          "base_uri": "https://localhost:8080/",
          "height": 336
        },
        "id": "7k_VtNIHVaFY",
        "outputId": "31d47794-db10-4163-edf5-71e85e75d1be"
      },
      "execution_count": null,
      "outputs": [
        {
          "output_type": "display_data",
          "data": {
            "text/plain": [
              "<Figure size 1080x360 with 2 Axes>"
            ],
            "image/png": "[encoded data removed]"
          },
          "metadata": {
            "needs_background": "light"
          }
        }
      ]
    },
    {
      "cell_type": "markdown",
      "source": [
        "Давайте посмотрим на графики всех классификаторов вместе\n"
      ],
      "metadata": {
        "id": "kXtBe8eBVxPI"
      }
    },
    {
      "cell_type": "code",
      "source": [
        "f, (ax1, ax2) = plt.subplots(1, 2, figsize=(15,5), sharey=True)\n",
        "\n",
        "f.suptitle('F1 and accuracy scores plots on test')\n",
        "\n",
        "ax1.plot(np.arange(2,100,5), result_logreg[:,1], label = 'Logistic regression on test')\n",
        "ax1.plot(np.arange(2,100,5), result_trees[:,1], label = 'Decision trees on test')\n",
        "ax1.plot(np.arange(2,100,5), result_forest[:,1], label = 'Random forest on test')\n",
        "ax1.set_title('Accuracy')\n",
        "\n",
        "ax2.plot(np.arange(2,100,5), result_logreg[:,3], label = 'Logistic regression on test')\n",
        "ax2.plot(np.arange(2,100,5), result_trees[:,3], label = 'Decision trees on test')\n",
        "ax2.plot(np.arange(2,100,5), result_forest[:,3], label = 'Random forest on test')\n",
        "\n",
        "ax2.set_title('F1 score')\n",
        "ax1.legend()\n",
        "ax2.legend()\n",
        "plt.show()"
      ],
      "metadata": {
        "colab": {
          "base_uri": "https://localhost:8080/",
          "height": 356
        },
        "id": "_orQ324rV2Q3",
        "outputId": "7562f229-8538-471c-cab8-38866d04cf8b"
      },
      "execution_count": null,
      "outputs": [
        {
          "output_type": "display_data",
          "data": {
            "text/plain": [
              "<Figure size 1080x360 with 2 Axes>"
            ],
            "image/png": "[encoded data removed]"
          },
          "metadata": {
            "needs_background": "light"
          }
        }
      ]
    },
    {
      "cell_type": "markdown",
      "metadata": {
        "nbgrader": {
          "grade": false,
          "grade_id": "cell-99191c0852538d4d",
          "locked": true,
          "schema_version": 2,
          "solution": false
        },
        "id": "I2DJPWpZutcW"
      },
      "source": [
        "#### 2.8. Learning curve\n",
        "Your goal is to estimate, how does the model behaviour change with the increase of the `train` dataset size.\n",
        "\n",
        "* Split the training data into 10 equal (almost) parts. Then train the models from above (Logistic regression, Desicion Tree, Random Forest) with optimal hyperparameters you have selected on 1 part, 2 parts (combined, so the train size in increased by 2 times), 3 parts and so on.\n",
        "\n",
        "* Build a plot of `accuracy` and `f1` scores on `test` part, varying the `train` dataset size (so the axes will be score - dataset size.\n",
        "\n",
        "* Analyse the final plot. Can you make any conlusions using it? "
      ]
    },
    {
      "cell_type": "code",
      "execution_count": null,
      "metadata": {
        "nbgrader": {
          "grade": true,
          "grade_id": "cell-e39bc7e7dff61ff9",
          "locked": false,
          "points": 15,
          "schema_version": 2,
          "solution": true
        },
        "id": "vV7pt9QrutcW"
      },
      "outputs": [],
      "source": [
        "from sklearn.model_selection import StratifiedShuffleSplit\n",
        "\n",
        "split_data = StratifiedShuffleSplit(n_splits=10, test_size = None, random_state=0)\n"
      ]
    },
    {
      "cell_type": "code",
      "source": [
        "parts = []\n",
        "for i, (train_index, _) in enumerate(split_data.split(X_train, y_train)):\n",
        "  if i>0:\n",
        "    parts.append(((np.concatenate((parts[i-1][0], X_train[train_index]))),\n",
        "                  (np.concatenate((parts[i-1][1], y_train[train_index])))))\n",
        "  else: \n",
        "    parts.append((X_train[train_index], y_train[train_index]))\n"
      ],
      "metadata": {
        "id": "wOiWsDO9qA36"
      },
      "execution_count": null,
      "outputs": []
    },
    {
      "cell_type": "code",
      "source": [
        "logreg_pipe = make_pipeline(StandardScaler(),\n",
        "                            LogisticRegression(multi_class='multinomial', \n",
        "                                               solver='saga', tol=1e-3, \n",
        "                                               max_iter=500, random_state=0, \n",
        "                                               C = grid_logreg.best_params_['logisticregression__C'], \n",
        "                                               penalty = grid_logreg.best_params_['logisticregression__penalty']))\n",
        "\n",
        "decision_tree = DecisionTreeClassifier(random_state = 0, **grid_dtree.best_params_)\n",
        "\n",
        "forest = RandomForestClassifier(n_estimators=32, random_state = 0)"
      ],
      "metadata": {
        "id": "HtdRu7v8kkCF"
      },
      "execution_count": null,
      "outputs": []
    },
    {
      "cell_type": "code",
      "source": [
        "logreg_result = []\n",
        "trees_result = []\n",
        "forest_result = [] \n",
        "\n",
        "for x, y in parts:\n",
        "  print(x.shape, y.shape)\n",
        "  logreg_result.append(fit_score(logreg_pipe, x, y, X_test))\n",
        "  trees_result.append(fit_score(decision_tree, x, y, X_test))\n",
        "  forest_result.append(fit_score(forest, x, y, X_test))\n"
      ],
      "metadata": {
        "colab": {
          "base_uri": "https://localhost:8080/"
        },
        "id": "RCzXN4hyrLI-",
        "outputId": "2ff1c1dd-dcb8-46c0-b56e-085c522ef89e"
      },
      "execution_count": null,
      "outputs": [
        {
          "output_type": "stream",
          "name": "stdout",
          "text": [
            "(494, 18) (494,)\n",
            "(988, 18) (988,)\n",
            "(1482, 18) (1482,)\n",
            "(1976, 18) (1976,)\n",
            "(2470, 18) (2470,)\n",
            "(2964, 18) (2964,)\n",
            "(3458, 18) (3458,)\n",
            "(3952, 18) (3952,)\n",
            "(4446, 18) (4446,)\n",
            "(4940, 18) (4940,)\n"
          ]
        }
      ]
    },
    {
      "cell_type": "code",
      "source": [
        "plot_graphs(np.array(logreg_result), np.arange(1,11), plot_title = 'Logistic Regression')\n",
        "plot_graphs(np.array(trees_result), np.arange(1,11), plot_title = 'Decision tree')\n",
        "plot_graphs(np.array(forest_result), np.arange(1,11), plot_title = 'Random Forest')"
      ],
      "metadata": {
        "colab": {
          "base_uri": "https://localhost:8080/",
          "height": 1000
        },
        "id": "Y3vygqLAy9w3",
        "outputId": "941aef8a-7b1a-4631-edd8-ef47f42d69ed"
      },
      "execution_count": null,
      "outputs": [
        {
          "output_type": "display_data",
          "data": {
            "text/plain": [
              "<Figure size 1080x360 with 2 Axes>"
            ],
            "image/png": "[encoded data removed]"
          },
          "metadata": {
            "needs_background": "light"
          }
        },
        {
          "output_type": "display_data",
          "data": {
            "text/plain": [
              "<Figure size 1080x360 with 2 Axes>"
            ],
            "image/png": "[encoded data removed]"
          },
          "metadata": {
            "needs_background": "light"
          }
        },
        {
          "output_type": "display_data",
          "data": {
            "text/plain": [
              "<Figure size 1080x360 with 2 Axes>"
            ],
            "image/png": "[encoded data removed]"
          },
          "metadata": {
            "needs_background": "light"
          }
        }
      ]
    },
    {
      "cell_type": "markdown",
      "source": [
        "Ну, что меняется при увеличении выборки. Увеличивается количество представителей каждого класса, а также количество выбросов. Т.к. я использовала StratifiedShuffleSplit, то соотношение классов аналогично исходному датасету. Поэтому, в целом, сложно что-то сказать, но увеличение датасета очень понравилось логистической регрессии. "
      ],
      "metadata": {
        "id": "oNUEazJ318ox"
      }
    }
  ],
  "metadata": {
    "celltoolbar": "Create Assignment",
    "kernelspec": {
      "display_name": "Py3 Research",
      "language": "python",
      "name": "py3_research_kernel"
    },
    "language_info": {
      "codemirror_mode": {
        "name": "ipython",
        "version": 3
      },
      "file_extension": ".py",
      "mimetype": "text/x-python",
      "name": "python",
      "nbconvert_exporter": "python",
      "pygments_lexer": "ipython3",
      "version": "3.9.7"
    },
    "toc": {
      "base_numbering": 1,
      "nav_menu": {},
      "number_sections": false,
      "sideBar": true,
      "skip_h1_title": false,
      "title_cell": "Table of Contents",
      "title_sidebar": "Contents",
      "toc_cell": false,
      "toc_position": {},
      "toc_section_display": true,
      "toc_window_display": false
    },
    "colab": {
      "provenance": []
    }
  },
  "nbformat": 4,
  "nbformat_minor": 0
}